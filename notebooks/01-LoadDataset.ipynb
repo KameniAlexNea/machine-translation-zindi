{
 "cells": [
  {
   "cell_type": "code",
   "execution_count": 1,
   "metadata": {},
   "outputs": [],
   "source": [
    "import pandas as pd\n",
    "import numpy as np\n",
    "import json\n",
    "\n",
    "from matplotlib import pyplot as plt\n",
    "\n",
    "import datasets"
   ]
  },
  {
   "cell_type": "code",
   "execution_count": 2,
   "metadata": {},
   "outputs": [
    {
     "data": {
      "text/plain": [
       "3"
      ]
     },
     "execution_count": 2,
     "metadata": {},
     "output_type": "execute_result"
    }
   ],
   "source": [
    "dataset = datasets.load_dataset(\"uvci/Koumankan_mt_dyu_fr\")\n",
    "\n",
    "len(dataset)"
   ]
  },
  {
   "cell_type": "code",
   "execution_count": 3,
   "metadata": {},
   "outputs": [
    {
     "data": {
      "text/plain": [
       "DatasetDict({\n",
       "    train: Dataset({\n",
       "        features: ['ID', 'translation'],\n",
       "        num_rows: 8065\n",
       "    })\n",
       "    validation: Dataset({\n",
       "        features: ['ID', 'translation'],\n",
       "        num_rows: 1471\n",
       "    })\n",
       "    test: Dataset({\n",
       "        features: ['ID', 'translation'],\n",
       "        num_rows: 1393\n",
       "    })\n",
       "})"
      ]
     },
     "execution_count": 3,
     "metadata": {},
     "output_type": "execute_result"
    }
   ],
   "source": [
    "dataset"
   ]
  },
  {
   "cell_type": "code",
   "execution_count": 4,
   "metadata": {},
   "outputs": [],
   "source": [
    "train, val, test = dataset[\"train\"], dataset[\"validation\"], dataset[\"test\"]"
   ]
  },
  {
   "cell_type": "code",
   "execution_count": 5,
   "metadata": {},
   "outputs": [
    {
     "data": {
      "text/plain": [
       "{'ID': 'ID_18897661270129',\n",
       " 'translation': {'dyu': 'A bi ji min na', 'fr': 'Il boit de l’eau.'}}"
      ]
     },
     "execution_count": 5,
     "metadata": {},
     "output_type": "execute_result"
    }
   ],
   "source": [
    "train[0]"
   ]
  },
  {
   "cell_type": "code",
   "execution_count": 6,
   "metadata": {},
   "outputs": [
    {
     "data": {
      "text/plain": [
       "{'ID': 'ID_17914990255818',\n",
       " 'translation': {'dyu': 'I tɔgɔ bi cogodɔ',\n",
       "  'fr': 'Tu portes un nom de fantaisie.'}}"
      ]
     },
     "execution_count": 6,
     "metadata": {},
     "output_type": "execute_result"
    }
   ],
   "source": [
    "val[0]"
   ]
  },
  {
   "cell_type": "code",
   "execution_count": 7,
   "metadata": {},
   "outputs": [
    {
     "data": {
      "text/plain": [
       "{'ID': 'ID_17345911362699',\n",
       " 'translation': {'dyu': 'An kelen duron le tun be yi', 'fr': '0'}}"
      ]
     },
     "execution_count": 7,
     "metadata": {},
     "output_type": "execute_result"
    }
   ],
   "source": [
    "test[0]"
   ]
  },
  {
   "cell_type": "code",
   "execution_count": 8,
   "metadata": {},
   "outputs": [
    {
     "data": {
      "text/plain": [
       "dict"
      ]
     },
     "execution_count": 8,
     "metadata": {},
     "output_type": "execute_result"
    }
   ],
   "source": [
    "type(train[0][\"translation\"])"
   ]
  },
  {
   "cell_type": "code",
   "execution_count": 9,
   "metadata": {},
   "outputs": [
    {
     "data": {
      "text/plain": [
       "StructType(struct<ID: string, translation: struct<dyu: string, fr: string>>)"
      ]
     },
     "execution_count": 9,
     "metadata": {},
     "output_type": "execute_result"
    }
   ],
   "source": [
    "train.features.type"
   ]
  },
  {
   "cell_type": "code",
   "execution_count": 10,
   "metadata": {},
   "outputs": [
    {
     "data": {
      "text/plain": [
       "StructType(struct<ID: string, translation: struct<dyu: string, fr: string>>)"
      ]
     },
     "execution_count": 10,
     "metadata": {},
     "output_type": "execute_result"
    }
   ],
   "source": [
    "val.features.type"
   ]
  },
  {
   "cell_type": "code",
   "execution_count": 11,
   "metadata": {},
   "outputs": [
    {
     "data": {
      "text/plain": [
       "StructType(struct<ID: string, translation: struct<dyu: string, fr: string>>)"
      ]
     },
     "execution_count": 11,
     "metadata": {},
     "output_type": "execute_result"
    }
   ],
   "source": [
    "test.features.type"
   ]
  },
  {
   "cell_type": "code",
   "execution_count": 12,
   "metadata": {},
   "outputs": [],
   "source": [
    "train_df = pd.DataFrame([\n",
    "    {\n",
    "        \"ID\": example[\"ID\"], \"dyu\": example[\"translation\"][\"dyu\"], \"fr\": example[\"translation\"][\"fr\"]\n",
    "\t} for example in train\n",
    "])\n",
    "\n",
    "test_df = pd.DataFrame([\n",
    "    {\n",
    "        \"ID\": example[\"ID\"], \"dyu\": example[\"translation\"][\"dyu\"], \"fr\": example[\"translation\"][\"fr\"]\n",
    "\t} for example in test\n",
    "])\n",
    "\n",
    "val_df = pd.DataFrame([\n",
    "    {\n",
    "        \"ID\": example[\"ID\"], \"dyu\": example[\"translation\"][\"dyu\"], \"fr\": example[\"translation\"][\"fr\"]\n",
    "\t} for example in val\n",
    "])"
   ]
  },
  {
   "cell_type": "code",
   "execution_count": 13,
   "metadata": {},
   "outputs": [
    {
     "data": {
      "text/html": [
       "<div>\n",
       "<style scoped>\n",
       "    .dataframe tbody tr th:only-of-type {\n",
       "        vertical-align: middle;\n",
       "    }\n",
       "\n",
       "    .dataframe tbody tr th {\n",
       "        vertical-align: top;\n",
       "    }\n",
       "\n",
       "    .dataframe thead th {\n",
       "        text-align: right;\n",
       "    }\n",
       "</style>\n",
       "<table border=\"1\" class=\"dataframe\">\n",
       "  <thead>\n",
       "    <tr style=\"text-align: right;\">\n",
       "      <th></th>\n",
       "      <th>ID</th>\n",
       "      <th>dyu</th>\n",
       "      <th>fr</th>\n",
       "    </tr>\n",
       "  </thead>\n",
       "  <tbody>\n",
       "    <tr>\n",
       "      <th>3342</th>\n",
       "      <td>ID_19022636742103</td>\n",
       "      <td>ni sariya tɛ jaman ta ye</td>\n",
       "      <td>La règle n'est pas d'ordre public.</td>\n",
       "    </tr>\n",
       "    <tr>\n",
       "      <th>6652</th>\n",
       "      <td>ID_18408044198105</td>\n",
       "      <td>A bi tara Kimpe .</td>\n",
       "      <td>Elle va à Quimper.</td>\n",
       "    </tr>\n",
       "    <tr>\n",
       "      <th>4473</th>\n",
       "      <td>ID_17486933478866</td>\n",
       "      <td>n bɛ na na tɛnɛ lo.</td>\n",
       "      <td>je viendrai lundi.</td>\n",
       "    </tr>\n",
       "    <tr>\n",
       "      <th>6589</th>\n",
       "      <td>ID_18856244192123</td>\n",
       "      <td>A ka anivɛrsɛr le kun.</td>\n",
       "      <td>C’était son anniversaire.</td>\n",
       "    </tr>\n",
       "    <tr>\n",
       "      <th>638</th>\n",
       "      <td>ID_17437643822242</td>\n",
       "      <td>Wulumuso deni</td>\n",
       "      <td>une petite chienne.</td>\n",
       "    </tr>\n",
       "    <tr>\n",
       "      <th>3495</th>\n",
       "      <td>ID_18787774982779</td>\n",
       "      <td>A ya livru lo wa?</td>\n",
       "      <td>C’est votre livre ?</td>\n",
       "    </tr>\n",
       "    <tr>\n",
       "      <th>2687</th>\n",
       "      <td>ID_19424584920202</td>\n",
       "      <td>kɔlon min bɛ boɲɛ duuru bɔ</td>\n",
       "      <td>Puis, du au sur La Cinq.</td>\n",
       "    </tr>\n",
       "    <tr>\n",
       "      <th>3457</th>\n",
       "      <td>ID_18070720980678</td>\n",
       "      <td>Pol Renuwar ka sira tan.</td>\n",
       "      <td>dix rue Paul Renouard</td>\n",
       "    </tr>\n",
       "    <tr>\n",
       "      <th>1900</th>\n",
       "      <td>ID_17527005698215</td>\n",
       "      <td>o ye n minɛ amandeman fila kan o min bɛ ye kee...</td>\n",
       "      <td>Je suis saisi de deux amendements identiques, ...</td>\n",
       "    </tr>\n",
       "    <tr>\n",
       "      <th>1218</th>\n",
       "      <td>ID_18034547821508</td>\n",
       "      <td>lagaris ra karɔs</td>\n",
       "      <td>Chemin de Lagarigue, Cayrols</td>\n",
       "    </tr>\n",
       "  </tbody>\n",
       "</table>\n",
       "</div>"
      ],
      "text/plain": [
       "                     ID                                                dyu  \\\n",
       "3342  ID_19022636742103                           ni sariya tɛ jaman ta ye   \n",
       "6652  ID_18408044198105                                  A bi tara Kimpe .   \n",
       "4473  ID_17486933478866                                n bɛ na na tɛnɛ lo.   \n",
       "6589  ID_18856244192123                             A ka anivɛrsɛr le kun.   \n",
       "638   ID_17437643822242                                      Wulumuso deni   \n",
       "3495  ID_18787774982779                                  A ya livru lo wa?   \n",
       "2687  ID_19424584920202                         kɔlon min bɛ boɲɛ duuru bɔ   \n",
       "3457  ID_18070720980678                           Pol Renuwar ka sira tan.   \n",
       "1900  ID_17527005698215  o ye n minɛ amandeman fila kan o min bɛ ye kee...   \n",
       "1218  ID_18034547821508                                   lagaris ra karɔs   \n",
       "\n",
       "                                                     fr  \n",
       "3342                 La règle n'est pas d'ordre public.  \n",
       "6652                                 Elle va à Quimper.  \n",
       "4473                                 je viendrai lundi.  \n",
       "6589                          C’était son anniversaire.  \n",
       "638                                 une petite chienne.  \n",
       "3495                                C’est votre livre ?  \n",
       "2687                           Puis, du au sur La Cinq.  \n",
       "3457                              dix rue Paul Renouard  \n",
       "1900  Je suis saisi de deux amendements identiques, ...  \n",
       "1218                       Chemin de Lagarigue, Cayrols  "
      ]
     },
     "execution_count": 13,
     "metadata": {},
     "output_type": "execute_result"
    }
   ],
   "source": [
    "train_df.sample(10)"
   ]
  },
  {
   "cell_type": "code",
   "execution_count": 14,
   "metadata": {},
   "outputs": [
    {
     "data": {
      "text/html": [
       "<div>\n",
       "<style scoped>\n",
       "    .dataframe tbody tr th:only-of-type {\n",
       "        vertical-align: middle;\n",
       "    }\n",
       "\n",
       "    .dataframe tbody tr th {\n",
       "        vertical-align: top;\n",
       "    }\n",
       "\n",
       "    .dataframe thead th {\n",
       "        text-align: right;\n",
       "    }\n",
       "</style>\n",
       "<table border=\"1\" class=\"dataframe\">\n",
       "  <thead>\n",
       "    <tr style=\"text-align: right;\">\n",
       "      <th></th>\n",
       "      <th>ID</th>\n",
       "      <th>dyu</th>\n",
       "      <th>fr</th>\n",
       "      <th>dyu_len</th>\n",
       "      <th>dyu_split</th>\n",
       "      <th>fr_len</th>\n",
       "      <th>fr_split</th>\n",
       "    </tr>\n",
       "  </thead>\n",
       "  <tbody>\n",
       "    <tr>\n",
       "      <th>5786</th>\n",
       "      <td>ID_19253860363559</td>\n",
       "      <td>a fatɔyala ka tog'a kolokolo komi fatɔ</td>\n",
       "      <td>Elle délire et rampe comme un serpent.</td>\n",
       "      <td>38</td>\n",
       "      <td>7</td>\n",
       "      <td>38</td>\n",
       "      <td>7</td>\n",
       "    </tr>\n",
       "    <tr>\n",
       "      <th>426</th>\n",
       "      <td>ID_17460316697117</td>\n",
       "      <td>A ti foyi dian</td>\n",
       "      <td>Il ne me donne jamais rien.</td>\n",
       "      <td>14</td>\n",
       "      <td>4</td>\n",
       "      <td>27</td>\n",
       "      <td>6</td>\n",
       "    </tr>\n",
       "    <tr>\n",
       "      <th>4959</th>\n",
       "      <td>ID_17368300077032</td>\n",
       "      <td>Kôrô yan magni</td>\n",
       "      <td>le temps n'est pas beau.</td>\n",
       "      <td>14</td>\n",
       "      <td>3</td>\n",
       "      <td>24</td>\n",
       "      <td>5</td>\n",
       "    </tr>\n",
       "    <tr>\n",
       "      <th>1137</th>\n",
       "      <td>ID_17355887169448</td>\n",
       "      <td>A bi mɔgɔ bonya kojugu.</td>\n",
       "      <td>Il est plus respectueux.</td>\n",
       "      <td>23</td>\n",
       "      <td>5</td>\n",
       "      <td>24</td>\n",
       "      <td>4</td>\n",
       "    </tr>\n",
       "    <tr>\n",
       "      <th>1118</th>\n",
       "      <td>ID_17344580815833</td>\n",
       "      <td>Ne tɔgɔ ko Keraotre .</td>\n",
       "      <td>Je m'appelle Keraotred.</td>\n",
       "      <td>21</td>\n",
       "      <td>5</td>\n",
       "      <td>23</td>\n",
       "      <td>3</td>\n",
       "    </tr>\n",
       "    <tr>\n",
       "      <th>3689</th>\n",
       "      <td>ID_18475593956896</td>\n",
       "      <td>Na sisansisan</td>\n",
       "      <td>Viens tout de suite.</td>\n",
       "      <td>13</td>\n",
       "      <td>2</td>\n",
       "      <td>20</td>\n",
       "      <td>4</td>\n",
       "    </tr>\n",
       "    <tr>\n",
       "      <th>1243</th>\n",
       "      <td>ID_18896095229234</td>\n",
       "      <td>A y'a ka dususuma sɔrɔ ka ta o tuman na ɛspera...</td>\n",
       "      <td>Elle reprit sa douce humeur à mesure qu'Espéra...</td>\n",
       "      <td>66</td>\n",
       "      <td>16</td>\n",
       "      <td>68</td>\n",
       "      <td>11</td>\n",
       "    </tr>\n",
       "  </tbody>\n",
       "</table>\n",
       "</div>"
      ],
      "text/plain": [
       "                     ID                                                dyu  \\\n",
       "5786  ID_19253860363559             a fatɔyala ka tog'a kolokolo komi fatɔ   \n",
       "426   ID_17460316697117                                     A ti foyi dian   \n",
       "4959  ID_17368300077032                                     Kôrô yan magni   \n",
       "1137  ID_17355887169448                            A bi mɔgɔ bonya kojugu.   \n",
       "1118  ID_17344580815833                              Ne tɔgɔ ko Keraotre .   \n",
       "3689  ID_18475593956896                                      Na sisansisan   \n",
       "1243  ID_18896095229234  A y'a ka dususuma sɔrɔ ka ta o tuman na ɛspera...   \n",
       "\n",
       "                                                     fr  dyu_len  dyu_split  \\\n",
       "5786             Elle délire et rampe comme un serpent.       38          7   \n",
       "426                         Il ne me donne jamais rien.       14          4   \n",
       "4959                           le temps n'est pas beau.       14          3   \n",
       "1137                           Il est plus respectueux.       23          5   \n",
       "1118                            Je m'appelle Keraotred.       21          5   \n",
       "3689                               Viens tout de suite.       13          2   \n",
       "1243  Elle reprit sa douce humeur à mesure qu'Espéra...       66         16   \n",
       "\n",
       "      fr_len  fr_split  \n",
       "5786      38         7  \n",
       "426       27         6  \n",
       "4959      24         5  \n",
       "1137      24         4  \n",
       "1118      23         3  \n",
       "3689      20         4  \n",
       "1243      68        11  "
      ]
     },
     "execution_count": 14,
     "metadata": {},
     "output_type": "execute_result"
    }
   ],
   "source": [
    "train_df[\"dyu_len\"] = train_df[\"dyu\"].apply(lambda x: len(x))\n",
    "train_df[\"dyu_split\"] = train_df[\"dyu\"].apply(lambda x: len(x.split()))\n",
    "train_df[\"fr_len\"] = train_df[\"fr\"].apply(lambda x: len(x))\n",
    "train_df[\"fr_split\"] = train_df[\"fr\"].apply(lambda x: len(x.split()))\n",
    "\n",
    "\n",
    "train_df.sample(7)"
   ]
  },
  {
   "cell_type": "code",
   "execution_count": 15,
   "metadata": {},
   "outputs": [
    {
     "data": {
      "text/html": [
       "<div>\n",
       "<style scoped>\n",
       "    .dataframe tbody tr th:only-of-type {\n",
       "        vertical-align: middle;\n",
       "    }\n",
       "\n",
       "    .dataframe tbody tr th {\n",
       "        vertical-align: top;\n",
       "    }\n",
       "\n",
       "    .dataframe thead th {\n",
       "        text-align: right;\n",
       "    }\n",
       "</style>\n",
       "<table border=\"1\" class=\"dataframe\">\n",
       "  <thead>\n",
       "    <tr style=\"text-align: right;\">\n",
       "      <th></th>\n",
       "      <th>dyu_len</th>\n",
       "      <th>dyu_split</th>\n",
       "      <th>fr_len</th>\n",
       "      <th>fr_split</th>\n",
       "    </tr>\n",
       "  </thead>\n",
       "  <tbody>\n",
       "    <tr>\n",
       "      <th>count</th>\n",
       "      <td>8065.000000</td>\n",
       "      <td>8065.000000</td>\n",
       "      <td>8065.000000</td>\n",
       "      <td>8065.000000</td>\n",
       "    </tr>\n",
       "    <tr>\n",
       "      <th>mean</th>\n",
       "      <td>25.568258</td>\n",
       "      <td>5.977557</td>\n",
       "      <td>32.481587</td>\n",
       "      <td>5.691631</td>\n",
       "    </tr>\n",
       "    <tr>\n",
       "      <th>std</th>\n",
       "      <td>13.911661</td>\n",
       "      <td>3.083352</td>\n",
       "      <td>18.165819</td>\n",
       "      <td>2.808012</td>\n",
       "    </tr>\n",
       "    <tr>\n",
       "      <th>min</th>\n",
       "      <td>2.000000</td>\n",
       "      <td>1.000000</td>\n",
       "      <td>4.000000</td>\n",
       "      <td>1.000000</td>\n",
       "    </tr>\n",
       "    <tr>\n",
       "      <th>25%</th>\n",
       "      <td>17.000000</td>\n",
       "      <td>4.000000</td>\n",
       "      <td>22.000000</td>\n",
       "      <td>4.000000</td>\n",
       "    </tr>\n",
       "    <tr>\n",
       "      <th>50%</th>\n",
       "      <td>22.000000</td>\n",
       "      <td>5.000000</td>\n",
       "      <td>26.000000</td>\n",
       "      <td>5.000000</td>\n",
       "    </tr>\n",
       "    <tr>\n",
       "      <th>75%</th>\n",
       "      <td>30.000000</td>\n",
       "      <td>7.000000</td>\n",
       "      <td>32.000000</td>\n",
       "      <td>6.000000</td>\n",
       "    </tr>\n",
       "    <tr>\n",
       "      <th>max</th>\n",
       "      <td>123.000000</td>\n",
       "      <td>29.000000</td>\n",
       "      <td>121.000000</td>\n",
       "      <td>19.000000</td>\n",
       "    </tr>\n",
       "  </tbody>\n",
       "</table>\n",
       "</div>"
      ],
      "text/plain": [
       "           dyu_len    dyu_split       fr_len     fr_split\n",
       "count  8065.000000  8065.000000  8065.000000  8065.000000\n",
       "mean     25.568258     5.977557    32.481587     5.691631\n",
       "std      13.911661     3.083352    18.165819     2.808012\n",
       "min       2.000000     1.000000     4.000000     1.000000\n",
       "25%      17.000000     4.000000    22.000000     4.000000\n",
       "50%      22.000000     5.000000    26.000000     5.000000\n",
       "75%      30.000000     7.000000    32.000000     6.000000\n",
       "max     123.000000    29.000000   121.000000    19.000000"
      ]
     },
     "execution_count": 15,
     "metadata": {},
     "output_type": "execute_result"
    }
   ],
   "source": [
    "train_df.describe()"
   ]
  },
  {
   "cell_type": "code",
   "execution_count": 16,
   "metadata": {},
   "outputs": [
    {
     "data": {
      "text/plain": [
       "count    8065.000000\n",
       "mean        6.913329\n",
       "std        14.529102\n",
       "min       -65.000000\n",
       "25%        -1.000000\n",
       "50%         4.000000\n",
       "75%        10.000000\n",
       "max        92.000000\n",
       "dtype: float64"
      ]
     },
     "execution_count": 16,
     "metadata": {},
     "output_type": "execute_result"
    }
   ],
   "source": [
    "(train_df[\"fr_len\"] - train_df[\"dyu_len\"]).describe()"
   ]
  },
  {
   "cell_type": "code",
   "execution_count": 17,
   "metadata": {},
   "outputs": [
    {
     "data": {
      "text/plain": [
       "count    8065.000000\n",
       "mean       -0.285927\n",
       "std         2.770949\n",
       "min       -21.000000\n",
       "5%         -4.000000\n",
       "10%        -3.000000\n",
       "25%        -2.000000\n",
       "50%         0.000000\n",
       "75%         1.000000\n",
       "85%         2.000000\n",
       "90%         3.000000\n",
       "95%         4.000000\n",
       "max        13.000000\n",
       "dtype: float64"
      ]
     },
     "execution_count": 17,
     "metadata": {},
     "output_type": "execute_result"
    }
   ],
   "source": [
    "(train_df[\"fr_split\"] - train_df[\"dyu_split\"]).describe(\n",
    "    [0.05, .1, .25, .75, .85, .9, .95]\n",
    ")"
   ]
  },
  {
   "cell_type": "code",
   "execution_count": 18,
   "metadata": {},
   "outputs": [
    {
     "data": {
      "text/plain": [
       "(48209, 45903)"
      ]
     },
     "execution_count": 18,
     "metadata": {},
     "output_type": "execute_result"
    }
   ],
   "source": [
    "dyu_words = [\n",
    "\tword.lower() for i in train_df[\"dyu\"] for word in i.split()\n",
    "]\n",
    "\n",
    "fr_words = [\n",
    "\tword.lower() for i in train_df[\"fr\"] for word in i.split()\n",
    "]\n",
    "\n",
    "len(dyu_words), len(fr_words)"
   ]
  },
  {
   "cell_type": "code",
   "execution_count": 19,
   "metadata": {},
   "outputs": [],
   "source": [
    "dyu_words = pd.Series(dyu_words, name=\"dyu_words\")\n",
    "fr_words = pd.Series(fr_words, name=\"fr_words\")"
   ]
  },
  {
   "cell_type": "code",
   "execution_count": 20,
   "metadata": {},
   "outputs": [],
   "source": [
    "HEAD = 30"
   ]
  },
  {
   "cell_type": "code",
   "execution_count": 21,
   "metadata": {},
   "outputs": [
    {
     "data": {
      "image/png": "[encoded data removed]",
      "text/plain": [
       "<Figure size 640x480 with 1 Axes>"
      ]
     },
     "metadata": {},
     "output_type": "display_data"
    }
   ],
   "source": [
    "dyu_words.value_counts().head(HEAD).plot.bar()\n",
    "plt.show()"
   ]
  },
  {
   "cell_type": "code",
   "execution_count": 22,
   "metadata": {},
   "outputs": [
    {
     "data": {
      "image/png": "[encoded data removed]",
      "text/plain": [
       "<Figure size 640x480 with 1 Axes>"
      ]
     },
     "metadata": {},
     "output_type": "display_data"
    }
   ],
   "source": [
    "dyu_words.value_counts().tail(HEAD).plot.bar()\n",
    "plt.show()"
   ]
  },
  {
   "cell_type": "code",
   "execution_count": 23,
   "metadata": {},
   "outputs": [
    {
     "data": {
      "image/png": "[encoded data removed]",
      "text/plain": [
       "<Figure size 640x480 with 1 Axes>"
      ]
     },
     "metadata": {},
     "output_type": "display_data"
    }
   ],
   "source": [
    "fr_words.value_counts().head(HEAD).plot.bar()\n",
    "plt.show()"
   ]
  },
  {
   "cell_type": "code",
   "execution_count": 24,
   "metadata": {},
   "outputs": [
    {
     "data": {
      "text/plain": [
       "(224125, 166064)"
      ]
     },
     "execution_count": 24,
     "metadata": {},
     "output_type": "execute_result"
    }
   ],
   "source": [
    "char_dyu = [\n",
    "    tok for word in dyu_words for tok in word\n",
    "]\n",
    "\n",
    "char_fr = [\n",
    "    tok for word in fr_words for tok in word\n",
    "]\n",
    "\n",
    "len(char_fr), len(char_dyu)"
   ]
  },
  {
   "cell_type": "code",
   "execution_count": 25,
   "metadata": {},
   "outputs": [],
   "source": [
    "char_fr = pd.Series(char_fr, name=\"char_fr\")\n",
    "char_dyu = pd.Series(char_dyu, name=\"char_dyu\")"
   ]
  },
  {
   "cell_type": "code",
   "execution_count": 26,
   "metadata": {},
   "outputs": [
    {
     "data": {
      "image/png": "[encoded data removed]",
      "text/plain": [
       "<Figure size 640x480 with 1 Axes>"
      ]
     },
     "metadata": {},
     "output_type": "display_data"
    }
   ],
   "source": [
    "char_fr.value_counts().head(HEAD).plot.bar()\n",
    "plt.show()"
   ]
  },
  {
   "cell_type": "code",
   "execution_count": 27,
   "metadata": {},
   "outputs": [
    {
     "data": {
      "image/png": "[encoded data removed]",
      "text/plain": [
       "<Figure size 640x480 with 1 Axes>"
      ]
     },
     "metadata": {},
     "output_type": "display_data"
    }
   ],
   "source": [
    "char_fr.value_counts().tail(HEAD).plot.bar()\n",
    "plt.show()"
   ]
  },
  {
   "cell_type": "code",
   "execution_count": 28,
   "metadata": {},
   "outputs": [
    {
     "data": {
      "image/png": "[encoded data removed]",
      "text/plain": [
       "<Figure size 640x480 with 1 Axes>"
      ]
     },
     "metadata": {},
     "output_type": "display_data"
    }
   ],
   "source": [
    "char_dyu.value_counts().head(HEAD).plot.bar()\n",
    "plt.show()"
   ]
  },
  {
   "cell_type": "code",
   "execution_count": 29,
   "metadata": {},
   "outputs": [
    {
     "data": {
      "image/png": "[encoded data removed]",
      "text/plain": [
       "<Figure size 640x480 with 1 Axes>"
      ]
     },
     "metadata": {},
     "output_type": "display_data"
    }
   ],
   "source": [
    "char_dyu.value_counts().tail(HEAD).plot.bar()\n",
    "plt.show()"
   ]
  },
  {
   "cell_type": "code",
   "execution_count": 30,
   "metadata": {},
   "outputs": [
    {
     "data": {
      "text/plain": [
       "(58, 86)"
      ]
     },
     "execution_count": 30,
     "metadata": {},
     "output_type": "execute_result"
    }
   ],
   "source": [
    "len(char_dyu.value_counts()), len(char_fr.value_counts())"
   ]
  },
  {
   "cell_type": "code",
   "execution_count": null,
   "metadata": {},
   "outputs": [],
   "source": []
  }
 ],
 "metadata": {
  "kernelspec": {
   "display_name": ".venv",
   "language": "python",
   "name": "python3"
  },
  "language_info": {
   "codemirror_mode": {
    "name": "ipython",
    "version": 3
   },
   "file_extension": ".py",
   "mimetype": "text/x-python",
   "name": "python",
   "nbconvert_exporter": "python",
   "pygments_lexer": "ipython3",
   "version": "3.9.18"
  }
 },
 "nbformat": 4,
 "nbformat_minor": 2
}
