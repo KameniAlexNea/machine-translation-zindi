{
 "cells": [
  {
   "cell_type": "code",
   "execution_count": 1,
   "metadata": {},
   "outputs": [],
   "source": [
    "import pandas as pd\n",
    "import numpy as np\n",
    "import json\n",
    "import os\n",
    "from matplotlib import pyplot as plt\n",
    "\n",
    "import datasets"
   ]
  },
  {
   "cell_type": "code",
   "execution_count": 2,
   "metadata": {},
   "outputs": [
    {
     "data": {
      "text/plain": [
       "DatasetDict({\n",
       "    train: Dataset({\n",
       "        features: ['ID', 'translation'],\n",
       "        num_rows: 8065\n",
       "    })\n",
       "    validation: Dataset({\n",
       "        features: ['ID', 'translation'],\n",
       "        num_rows: 1471\n",
       "    })\n",
       "    test: Dataset({\n",
       "        features: ['ID', 'translation'],\n",
       "        num_rows: 1393\n",
       "    })\n",
       "})"
      ]
     },
     "execution_count": 2,
     "metadata": {},
     "output_type": "execute_result"
    }
   ],
   "source": [
    "dataset = datasets.load_dataset(\"uvci/Koumankan_mt_dyu_fr\")\n",
    "\n",
    "dataset"
   ]
  },
  {
   "cell_type": "code",
   "execution_count": 3,
   "metadata": {},
   "outputs": [
    {
     "data": {
      "text/plain": [
       "Dataset({\n",
       "    features: ['ID', 'translation'],\n",
       "    num_rows: 1393\n",
       "})"
      ]
     },
     "execution_count": 3,
     "metadata": {},
     "output_type": "execute_result"
    }
   ],
   "source": [
    "train, val, test = dataset[\"train\"], dataset[\"validation\"], dataset[\"test\"]\n",
    "\n",
    "test"
   ]
  },
  {
   "cell_type": "code",
   "execution_count": 4,
   "metadata": {},
   "outputs": [
    {
     "data": {
      "text/plain": [
       "StructType(struct<ID: string, translation: struct<dyu: string, fr: string>>)"
      ]
     },
     "execution_count": 4,
     "metadata": {},
     "output_type": "execute_result"
    }
   ],
   "source": [
    "val.features.type"
   ]
  },
  {
   "cell_type": "code",
   "execution_count": 5,
   "metadata": {},
   "outputs": [
    {
     "data": {
      "text/plain": [
       "{'ID': 'ID_17914990255818',\n",
       " 'translation': {'dyu': 'I tɔgɔ bi cogodɔ',\n",
       "  'fr': 'Tu portes un nom de fantaisie.'}}"
      ]
     },
     "execution_count": 5,
     "metadata": {},
     "output_type": "execute_result"
    }
   ],
   "source": [
    "val[0]"
   ]
  },
  {
   "cell_type": "code",
   "execution_count": 6,
   "metadata": {},
   "outputs": [
    {
     "data": {
      "text/plain": [
       "'I tɔgɔ bi cogodɔ'"
      ]
     },
     "execution_count": 6,
     "metadata": {},
     "output_type": "execute_result"
    }
   ],
   "source": [
    "text = val[0][\"translation\"][\"dyu\"]\n",
    "text"
   ]
  },
  {
   "cell_type": "code",
   "execution_count": 7,
   "metadata": {},
   "outputs": [],
   "source": [
    "from transformers import AutoTokenizer\n",
    "checkpoint = \"dyula_to_french/models/checkpoint-53091\"\n",
    "tokenizer = AutoTokenizer.from_pretrained(checkpoint)\n",
    "inputs = tokenizer(text, return_tensors=\"pt\").input_ids"
   ]
  },
  {
   "cell_type": "code",
   "execution_count": 8,
   "metadata": {},
   "outputs": [],
   "source": [
    "from transformers import AutoModelForSeq2SeqLM, MarianMTModel\n",
    "\n",
    "model: MarianMTModel = AutoModelForSeq2SeqLM.from_pretrained(checkpoint)\n",
    "outputs = model.generate(inputs, max_new_tokens=120, do_sample=True, top_k=30, top_p=0.97)"
   ]
  },
  {
   "cell_type": "code",
   "execution_count": 9,
   "metadata": {},
   "outputs": [
    {
     "data": {
      "text/plain": [
       "'Comment tappelles-tu?'"
      ]
     },
     "execution_count": 9,
     "metadata": {},
     "output_type": "execute_result"
    }
   ],
   "source": [
    "tokenizer.decode(outputs[0], skip_special_tokens=True)"
   ]
  },
  {
   "cell_type": "code",
   "execution_count": 10,
   "metadata": {},
   "outputs": [],
   "source": [
    "def make_prediction(data = val, index = 0):\n",
    "\tquery = data[index]\n",
    "\tprint(query)\n",
    "\ttext = query[\"translation\"][\"dyu\"]\n",
    "\tinputs = tokenizer(text, return_tensors=\"pt\").input_ids\n",
    "\toutputs = model.generate(inputs, max_new_tokens=300, do_sample=False,) #  top_k=20, top_p=0.97\n",
    "\tprint(tokenizer.decode(outputs[0], skip_special_tokens=True))"
   ]
  },
  {
   "cell_type": "code",
   "execution_count": 11,
   "metadata": {},
   "outputs": [],
   "source": [
    "import random"
   ]
  },
  {
   "cell_type": "code",
   "execution_count": 12,
   "metadata": {},
   "outputs": [
    {
     "name": "stdout",
     "output_type": "stream",
     "text": [
      "{'ID': 'ID_19567491311817', 'translation': {'dyu': \"FIFA FIFA gwɛlɛn ne b'a kan\", 'fr': 'Il éprouva des mouvements de tangage très-violents'}}\n",
      "J'ai de l'expérience dans mon travail\n"
     ]
    }
   ],
   "source": [
    "i = random.choice(list(range(len(val))))\n",
    "make_prediction(val, i)"
   ]
  },
  {
   "cell_type": "code",
   "execution_count": 13,
   "metadata": {},
   "outputs": [
    {
     "name": "stdout",
     "output_type": "stream",
     "text": [
      "{'ID': 'ID_19341068119275', 'translation': {'dyu': \"a bi tog'a ka lakoli fɛnw ne ta larusi b'a la\", 'fr': 'Il continue toutefois de publier de nouvelles éditions de son ouvrage édité chez Larousse.'}}\n",
      "Il tient compte de tout ce que je lui ai demandé.\n"
     ]
    }
   ],
   "source": [
    "i = random.choice(list(range(len(val))))\n",
    "make_prediction(val, i)"
   ]
  },
  {
   "cell_type": "code",
   "execution_count": 14,
   "metadata": {},
   "outputs": [
    {
     "name": "stdout",
     "output_type": "stream",
     "text": [
      "{'ID': 'ID_17361367399662', 'translation': {'dyu': 'N ye Obama ka muso le ye.', 'fr': 'Je suis Mme Obama.'}}\n",
      "Je suis la femme d'Urie.\n"
     ]
    }
   ],
   "source": [
    "i = random.choice(list(range(len(val))))\n",
    "make_prediction(val, i)"
   ]
  },
  {
   "cell_type": "code",
   "execution_count": 15,
   "metadata": {},
   "outputs": [
    {
     "name": "stdout",
     "output_type": "stream",
     "text": [
      "{'ID': 'ID_18898945479005', 'translation': {'dyu': 'Kouma ni bi yôrô bê', 'fr': 'La parole est à Madame Danièle Obono.'}}\n",
      "Lamendement numéro deux cent quarante-huit mille quatre-vingt-dix.\n"
     ]
    }
   ],
   "source": [
    "i = random.choice(list(range(len(val))))\n",
    "make_prediction(val, i)"
   ]
  },
  {
   "cell_type": "code",
   "execution_count": 16,
   "metadata": {},
   "outputs": [
    {
     "name": "stdout",
     "output_type": "stream",
     "text": [
      "{'ID': 'ID_18712686375067', 'translation': {'dyu': 'Ne lani tara,iya djougou ya', 'fr': \"J'y crois pas comme t'abuses!\"}}\n",
      "Je suis sûr que jai raison.\n"
     ]
    }
   ],
   "source": [
    "i = random.choice(list(range(len(val))))\n",
    "make_prediction(val, i)"
   ]
  },
  {
   "cell_type": "code",
   "execution_count": 17,
   "metadata": {},
   "outputs": [
    {
     "name": "stdout",
     "output_type": "stream",
     "text": [
      "{'ID': 'ID_18480418505874', 'translation': {'dyu': 'Ka sôrô alé tounbi yèlè la', 'fr': 'Et Annette riait.'}}\n",
      "Puis, la nuit tombée, lenfant se lève.\n"
     ]
    }
   ],
   "source": [
    "i = random.choice(list(range(len(val))))\n",
    "make_prediction(val, i)"
   ]
  },
  {
   "cell_type": "code",
   "execution_count": 18,
   "metadata": {},
   "outputs": [
    {
     "name": "stdout",
     "output_type": "stream",
     "text": [
      "{'ID': 'ID_19734016000995', 'translation': {'dyu': 'O bɛ i bi labɛn ne', 'fr': 'Tout un programme !'}}\n",
      "Tu tapprêtes tous.\n"
     ]
    }
   ],
   "source": [
    "i = random.choice(list(range(len(val))))\n",
    "make_prediction(val, i)"
   ]
  },
  {
   "cell_type": "code",
   "execution_count": 19,
   "metadata": {},
   "outputs": [
    {
     "name": "stdout",
     "output_type": "stream",
     "text": [
      "{'ID': 'ID_19614783481704', 'translation': {'dyu': 'Bon min be sanfɛ ole ta nin le i ko bon ban nin.', 'fr': \"L'étage supérieur est traité en attique.\"}}\n",
      "La pierre qui est dans le ciel est semblable à cette maison.\n"
     ]
    }
   ],
   "source": [
    "i = random.choice(list(range(len(val))))\n",
    "make_prediction(val, i)"
   ]
  },
  {
   "cell_type": "code",
   "execution_count": 20,
   "metadata": {},
   "outputs": [
    {
     "name": "stdout",
     "output_type": "stream",
     "text": [
      "{'ID': 'ID_17679122404647', 'translation': {'dyu': 'A kɛra komi a nɔgɔni bɛ.', 'fr': 'C’est plus ou moins sale.'}}\n",
      "C'était tout aussi simple.\n"
     ]
    }
   ],
   "source": [
    "i = random.choice(list(range(len(val))))\n",
    "make_prediction(val, i)"
   ]
  },
  {
   "cell_type": "code",
   "execution_count": 21,
   "metadata": {},
   "outputs": [
    {
     "name": "stdout",
     "output_type": "stream",
     "text": [
      "{'ID': 'ID_18421675417026', 'translation': {'dyu': 'A koni kèra olou ka kouma kan yé', 'fr': 'Ce fut, en effet, leur avis.'}}\n",
      "Elle est issue de lamendement numéro cent quarante-cinq.\n"
     ]
    }
   ],
   "source": [
    "i = random.choice(list(range(len(val))))\n",
    "make_prediction(val, i)"
   ]
  },
  {
   "cell_type": "code",
   "execution_count": 22,
   "metadata": {},
   "outputs": [
    {
     "name": "stdout",
     "output_type": "stream",
     "text": [
      "{'ID': 'ID_18065716273646', 'translation': {'dyu': 'Tɔgɔ a ni ɲɔgɔndan', 'fr': 'Titres et Coupons.'}}\n",
      "L'estime et le respect de sa personne\n"
     ]
    }
   ],
   "source": [
    "i = random.choice(list(range(len(val))))\n",
    "make_prediction(val, i)"
   ]
  },
  {
   "cell_type": "code",
   "execution_count": 23,
   "metadata": {},
   "outputs": [
    {
     "name": "stdout",
     "output_type": "stream",
     "text": [
      "{'ID': 'ID_17359169356753', 'translation': {'dyu': 'A ye ni fla ni ta.', 'fr': 'Prenez ce médicament.'}}\n",
      "Il a deux parts.\n"
     ]
    }
   ],
   "source": [
    "i = random.choice(list(range(len(val))))\n",
    "make_prediction(val, i)"
   ]
  },
  {
   "cell_type": "code",
   "execution_count": 24,
   "metadata": {},
   "outputs": [
    {
     "name": "stdout",
     "output_type": "stream",
     "text": [
      "{'ID': 'ID_18514377322353', 'translation': {'dyu': 'Musodeni fila lo tun be tulon kɛ la.', 'fr': 'Elle jouait avec elle.'}}\n",
      "Il y avait deux femmes qui étaient restées à l'écart.\n"
     ]
    }
   ],
   "source": [
    "i = random.choice(list(range(len(val))))\n",
    "make_prediction(val, i)"
   ]
  },
  {
   "cell_type": "code",
   "execution_count": null,
   "metadata": {},
   "outputs": [],
   "source": []
  }
 ],
 "metadata": {
  "kernelspec": {
   "display_name": ".venv",
   "language": "python",
   "name": "python3"
  },
  "language_info": {
   "codemirror_mode": {
    "name": "ipython",
    "version": 3
   },
   "file_extension": ".py",
   "mimetype": "text/x-python",
   "name": "python",
   "nbconvert_exporter": "python",
   "pygments_lexer": "ipython3",
   "version": "3.9.18"
  }
 },
 "nbformat": 4,
 "nbformat_minor": 2
}
