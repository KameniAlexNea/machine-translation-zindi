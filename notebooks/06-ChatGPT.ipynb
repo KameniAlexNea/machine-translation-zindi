{
 "cells": [
  {
   "cell_type": "code",
   "execution_count": 1,
   "metadata": {},
   "outputs": [],
   "source": [
    "import pandas as pd\n",
    "import numpy as np\n",
    "import json\n",
    "import os\n",
    "from matplotlib import pyplot as plt\n",
    "\n",
    "import datasets"
   ]
  },
  {
   "cell_type": "code",
   "execution_count": null,
   "metadata": {},
   "outputs": [],
   "source": []
  },
  {
   "cell_type": "code",
   "execution_count": 2,
   "metadata": {},
   "outputs": [],
   "source": [
    "with open(\"extra_dataset/chat_gpt/dataset\") as file:\n",
    "    data = file.readlines()\n",
    "data: list[str] = [\n",
    "    i.strip() for i in data if i.strip()\n",
    "]\n",
    "data_dyu = [\n",
    "\ti.replace(\"Dyula:\", \"\").strip() for i in data if \"Dyula:\" in i\n",
    "]\n",
    "data_fr = [\n",
    "\ti.replace(\"French:\", \"\").strip() for i in data if \"French:\" in i\n",
    "]"
   ]
  },
  {
   "cell_type": "code",
   "execution_count": 3,
   "metadata": {},
   "outputs": [
    {
     "data": {
      "text/plain": [
       "['Aw ni ce.', 'I ka kɛnɛ wa?', 'Mɔgɔ bɛ minɛ?', \"N b'a fɛ.\", 'A bɛ se ka taa?']"
      ]
     },
     "execution_count": 3,
     "metadata": {},
     "output_type": "execute_result"
    }
   ],
   "source": [
    "data_dyu[:5]"
   ]
  },
  {
   "cell_type": "code",
   "execution_count": 4,
   "metadata": {},
   "outputs": [
    {
     "data": {
      "text/plain": [
       "['Merci beaucoup.',\n",
       " 'Comment ça va?',\n",
       " 'Où est la personne?',\n",
       " \"Je l'aime.\",\n",
       " 'Peut-il partir?']"
      ]
     },
     "execution_count": 4,
     "metadata": {},
     "output_type": "execute_result"
    }
   ],
   "source": [
    "data_fr[:5]"
   ]
  },
  {
   "cell_type": "code",
   "execution_count": 5,
   "metadata": {},
   "outputs": [],
   "source": [
    "from transformers import AutoTokenizer\n",
    "from transformers import AutoModelForSeq2SeqLM, NllbTokenizer, M2M100ForConditionalGeneration, pipeline\n",
    "\n",
    "checkpoint = \"facebook/nllb-200-distilled-600M\"\n",
    "\n",
    "\n",
    "src_lang = \"dyu_Latn\"\n",
    "tgt_lang = \"fra_Latn\"\n",
    "\n",
    "tokenizer: NllbTokenizer = AutoTokenizer.from_pretrained(checkpoint, src_lang=src_lang, tgt_lang=tgt_lang)\n",
    "\n",
    "model: M2M100ForConditionalGeneration = AutoModelForSeq2SeqLM.from_pretrained(checkpoint)\n",
    "\n",
    "pipe = pipeline('translation', model=model, tokenizer=tokenizer, src_lang=src_lang, tgt_lang=tgt_lang)"
   ]
  },
  {
   "cell_type": "code",
   "execution_count": 6,
   "metadata": {},
   "outputs": [
    {
     "data": {
      "text/plain": [
       "140249654238752"
      ]
     },
     "execution_count": 6,
     "metadata": {},
     "output_type": "execute_result"
    }
   ],
   "source": [
    "id(pipe.model)"
   ]
  },
  {
   "cell_type": "code",
   "execution_count": 7,
   "metadata": {},
   "outputs": [],
   "source": [
    "from transformers import TranslationPipeline"
   ]
  },
  {
   "cell_type": "code",
   "execution_count": 8,
   "metadata": {},
   "outputs": [],
   "source": [
    "def make_prediction(index = 0):\n",
    "\tquery = data_dyu[index]\n",
    "\t\n",
    "\ttokenizer.src_lang = src_lang\n",
    "\ttokenizer.tgt_lang = tgt_lang\n",
    "\n",
    "\tmodel.generation_config.forced_bos_token_id = tokenizer.convert_tokens_to_ids(tgt_lang)\n",
    "\ttokenizer\n",
    "\tinputs = tokenizer(query, return_tensors=\"pt\").input_ids\n",
    "\toutputs = model.generate(inputs, max_new_tokens=300, do_sample=True, top_k=20, top_p=0.95) #  top_k=20, top_p=0.97\n",
    "\n",
    "\tprint(query)\n",
    "\tprint(tokenizer.batch_decode(inputs)[0])\n",
    "\tprint(tokenizer.decode(outputs[0], skip_special_tokens=True))\n",
    "\tprint(data_fr[index])"
   ]
  },
  {
   "cell_type": "code",
   "execution_count": 9,
   "metadata": {},
   "outputs": [
    {
     "name": "stdout",
     "output_type": "stream",
     "text": [
      "I y'a kɛnɛ wa?\n",
      "dyu_Latn I y'a kɛnɛ wa?</s>\n",
      "Avez- vous guéri votre malade?\n",
      "Comment allez-vous?\n"
     ]
    }
   ],
   "source": [
    "make_prediction(10)"
   ]
  },
  {
   "cell_type": "code",
   "execution_count": 10,
   "metadata": {},
   "outputs": [
    {
     "name": "stdout",
     "output_type": "stream",
     "text": [
      "N t'a boli kɛ, kunɔ n'a boli kɛ kun dɔ.\n",
      "dyu_Latn N t'a boli kɛ, kunɔ n'a boli kɛ kun dɔ.</s>\n",
      "C'est pour moi un bonheur, un gain de cause.\n",
      "Je vais finir le travail aujourd'hui, mais je vais commencer un nouveau demain.\n"
     ]
    }
   ],
   "source": [
    "make_prediction(100)"
   ]
  },
  {
   "cell_type": "code",
   "execution_count": 11,
   "metadata": {},
   "outputs": [
    {
     "name": "stdout",
     "output_type": "stream",
     "text": [
      "I tɛ se ka fɔ.\n",
      "dyu_Latn I tɛ se ka fɔ.</s>\n",
      "En effet, il est impossible de s'y attendre.\n",
      "Tu ne peux pas parler.\n"
     ]
    }
   ],
   "source": [
    "make_prediction(7)"
   ]
  },
  {
   "cell_type": "code",
   "execution_count": 12,
   "metadata": {},
   "outputs": [
    {
     "name": "stdout",
     "output_type": "stream",
     "text": [
      "I tɛ fɛere.\n",
      "dyu_Latn I tɛ fɛere.</s>\n",
      "Elle est très gentille.\n",
      "Tu n'as pas raison.\n"
     ]
    }
   ],
   "source": [
    "make_prediction(15)"
   ]
  },
  {
   "cell_type": "code",
   "execution_count": 13,
   "metadata": {},
   "outputs": [
    {
     "name": "stdout",
     "output_type": "stream",
     "text": [
      "A bɛ se ka don.\n",
      "dyu_Latn A bɛ se ka don.</s>\n",
      "Il peut rentrer.\n",
      "Il peut comprendre.\n"
     ]
    }
   ],
   "source": [
    "make_prediction(25)"
   ]
  },
  {
   "cell_type": "code",
   "execution_count": 14,
   "metadata": {},
   "outputs": [
    {
     "name": "stdout",
     "output_type": "stream",
     "text": [
      "Index 22\n",
      "A y'a taa.\n",
      "dyu_Latn A y'a taa.</s>\n",
      "Il s'en est allé.\n",
      "Il est parti.\n",
      "\n",
      "Index 241\n",
      "N bɛ se ka taa sɛnɛ kɛ.\n",
      "dyu_Latn N bɛ se ka taa sɛnɛ kɛ.</s>\n",
      "Je peux aller travailler à la ferme.\n",
      "Je vais partir demain.\n",
      "\n",
      "Index 178\n",
      "I ka taa ka bɔ ne, kunɔ i tɛ se ka taa.\n",
      "dyu_Latn I ka taa ka bɔ ne, kunɔ i tɛ se ka taa.</s>\n",
      "Eloigne-toi de moi! Levé, tu ne peux t'en aller!\n",
      "Tu veux venir avec moi, mais tu ne peux pas partir.\n",
      "\n",
      "Index 155\n",
      "N y'a se ka kan kunɔ, n tɛ se ka fɔ.\n",
      "dyu_Latn N y'a se ka kan kunɔ, n tɛ se ka fɔ.</s>\n",
      "Je pourrais même me lever, mais je n'en peux rien dire.\n",
      "Je veux comprendre, mais je ne veux pas parler.\n",
      "\n",
      "Index 255\n",
      "N ka taa kunɔ, kunɔ n tɛ se ka fɔ.\n",
      "dyu_Latn N ka taa kunɔ, kunɔ n tɛ se ka fɔ.</s>\n",
      "Je me réveille, et je ne sais pas dire où je me suis réveillé, et je me lève pour dire où j'ai été.\n",
      "Je vais partir maintenant, mais je ne veux pas.\n",
      "\n",
      "Index 230\n",
      "N bɛ sɔrɔ taa kunɔ.\n",
      "dyu_Latn N bɛ sɔrɔ taa kunɔ.</s>\n",
      "Je me lève à la recherche de Dieu et de ce qu'il y a de mieux.\n",
      "Je suis prêt à partir maintenant.\n",
      "\n",
      "Index 82\n",
      "A y'a fili ka fɔ.\n",
      "dyu_Latn A y'a fili ka fɔ.</s>\n",
      "Il a même menti.\n",
      "Il veut parler.\n",
      "\n",
      "Index 131\n",
      "N ye ka kan n'a fɔ, a tɛ se ka kan.\n",
      "dyu_Latn N ye ka kan n'a fɔ, a tɛ se ka kan.</s>\n",
      "J'ai dit que ce n'était pas le cas.\n",
      "Je l'écoute, mais il ne peut pas comprendre.\n",
      "\n",
      "Index 7\n",
      "I tɛ se ka fɔ.\n",
      "dyu_Latn I tɛ se ka fɔ.</s>\n",
      "N'est pas certain.\n",
      "Tu ne peux pas parler.\n",
      "\n",
      "Index 179\n",
      "N y'a se ka kan kunɔ, n tɛ se ka fɔ.\n",
      "dyu_Latn N y'a se ka kan kunɔ, n tɛ se ka fɔ.</s>\n",
      "Je me suis réveillé sans rien dire.\n",
      "Je veux comprendre, mais je ne veux pas parler.\n",
      "\n",
      "Index 117\n",
      "I ka sɔrɔ ɲɛgɛfɛ, a y'a sɔrɔ ka taa.\n",
      "dyu_Latn I ka sɔrɔ ɲɛgɛfɛ, a y'a sɔrɔ ka taa.</s>\n",
      "Il est possible de ne rien avoir.\n",
      "Tu as trouvé la vérité, mais il veut partir.\n",
      "\n",
      "Index 126\n",
      "I bɛ se ka don i y'a, a tɛ se ka don.\n",
      "dyu_Latn I bɛ se ka don i y'a, a tɛ se ka don.</s>\n",
      "Vous pourrez y entrer, il ne pourra pas y entrer.\n",
      "Tu peux comprendre si tu veux, mais il ne comprend pas.\n",
      "\n",
      "Index 240\n",
      "I ka na ka taa.\n",
      "dyu_Latn I ka na ka taa.</s>\n",
      "Tu es sur le point d'abandonner.\n",
      "Tu veux partir.\n",
      "\n",
      "Index 52\n",
      "N b'a don.\n",
      "dyu_Latn N b'a don.</s>\n",
      "Je l'utilise.\n",
      "Je comprends.\n",
      "\n",
      "Index 270\n",
      "I bɛ naa kɛ a tɛ, kunɔ i ka na ka taa.\n",
      "dyu_Latn I bɛ naa kɛ a tɛ, kunɔ i ka na ka taa.</s>\n",
      "Lève-toi et pars, ne t'arrête pas!\n",
      "Tu peux venir ici, mais tu veux partir.\n",
      "\n",
      "Index 4\n",
      "A bɛ se ka taa?\n",
      "dyu_Latn A bɛ se ka taa?</s>\n",
      "Peut- il aller?\n",
      "Peut-il partir?\n",
      "\n",
      "Index 44\n",
      "U ni ɲɛgɛfɛ.\n",
      "dyu_Latn U ni ɲɛgɛfɛ.</s>\n",
      "Un pauvre enfant n'est pas un jeune garçon.\n",
      "Bonne nuit.\n",
      "\n",
      "Index 151\n",
      "N y'a kan ka don, kunɔ n tɛ se ka taa.\n",
      "dyu_Latn N y'a kan ka don, kunɔ n tɛ se ka taa.</s>\n",
      "J'ai dû entrer, et je ne peux m'y tenir.\n",
      "Je veux comprendre, mais je ne peux pas partir.\n",
      "\n",
      "Index 234\n",
      "I bɛ naa kɛ kunɔ.\n",
      "dyu_Latn I bɛ naa kɛ kunɔ.</s>\n",
      "Tu fais lever le sommeil\n",
      "Tu peux venir.\n",
      "\n",
      "Index 152\n",
      "I bɛ se ka kan i ka fɔ, kunɔ i tɛ se ka don.\n",
      "dyu_Latn I bɛ se ka kan i ka fɔ, kunɔ i tɛ se ka don.</s>\n",
      "Il faut ouvrir ta bouche, tu ne peux pas entrer.\n",
      "Tu peux écouter ce que tu dis, mais tu ne comprends pas.\n",
      "\n",
      "Index 171\n",
      "N y'a se ka kan kunɔ, n tɛ se ka fɔ.\n",
      "dyu_Latn N y'a se ka kan kunɔ, n tɛ se ka fɔ.</s>\n",
      "Si elle est venue me voir, je ne peux pas en parler.\n",
      "Je veux comprendre, mais je ne veux pas parler.\n",
      "\n",
      "Index 263\n",
      "I bɛ naa kɛ a tɛ, kunɔ i ka na ka taa.\n",
      "dyu_Latn I bɛ naa kɛ a tɛ, kunɔ i ka na ka taa.</s>\n",
      "Réveille-toi, prends ton retard, Lève-toi et marche!\n",
      "Tu peux venir ici, mais tu veux partir.\n",
      "\n",
      "Index 20\n",
      "U bɛ fili ka fɔ.\n",
      "dyu_Latn U bɛ fili ka fɔ.</s>\n",
      "Mais ils disent des choses qui ne sont pas bien écrites.\n",
      "Ils veulent parler.\n",
      "\n",
      "Index 27\n",
      "N ye ka sɔrɔ.\n",
      "dyu_Latn N ye ka sɔrɔ.</s>\n",
      "C'est ce que je faisais, j'étais un peu plus jeune.\n",
      "J'ai trouvé.\n",
      "\n",
      "Index 106\n",
      "I ka taa ka den ni, k'i tɛ se ka taa ni.\n",
      "dyu_Latn I ka taa ka den ni, k'i tɛ se ka taa ni.</s>\n",
      "Va prendre des enfants; tu ne peux pas en prendre.\n",
      "Tu veux partir avec moi, mais tu ne peux pas venir avec moi.\n",
      "\n"
     ]
    }
   ],
   "source": [
    "import random\n",
    "\n",
    "for i in random.sample(range(len(data_dyu)), k=25):\n",
    "    print(\"Index\", i)\n",
    "    make_prediction(i)\n",
    "    print()"
   ]
  },
  {
   "cell_type": "code",
   "execution_count": null,
   "metadata": {},
   "outputs": [],
   "source": []
  }
 ],
 "metadata": {
  "kernelspec": {
   "display_name": ".venv",
   "language": "python",
   "name": "python3"
  },
  "language_info": {
   "codemirror_mode": {
    "name": "ipython",
    "version": 3
   },
   "file_extension": ".py",
   "mimetype": "text/x-python",
   "name": "python",
   "nbconvert_exporter": "python",
   "pygments_lexer": "ipython3",
   "version": "3.9.18"
  }
 },
 "nbformat": 4,
 "nbformat_minor": 2
}
