{
 "cells": [
  {
   "cell_type": "code",
   "execution_count": 1,
   "metadata": {},
   "outputs": [],
   "source": [
    "import pandas as pd\n",
    "import numpy as np\n",
    "import datasets"
   ]
  },
  {
   "cell_type": "code",
   "execution_count": 2,
   "metadata": {},
   "outputs": [],
   "source": [
    "source_language_path = \"extra_dataset/dyu-fr.txt/NLLB.dyu-fr.dyu\"\n",
    "target_language_path = \"extra_dataset/dyu-fr.txt/NLLB.dyu-fr.fr\"\n",
    "\n",
    "source_data = open(source_language_path, \"r\").readlines()\n",
    "target_data = open(target_language_path, \"r\").readlines()"
   ]
  },
  {
   "cell_type": "code",
   "execution_count": 3,
   "metadata": {},
   "outputs": [
    {
     "data": {
      "text/plain": [
       "(369450, 369450)"
      ]
     },
     "execution_count": 3,
     "metadata": {},
     "output_type": "execute_result"
    }
   ],
   "source": [
    "len(source_data), len(target_data)"
   ]
  },
  {
   "cell_type": "code",
   "execution_count": 4,
   "metadata": {},
   "outputs": [
    {
     "data": {
      "text/plain": [
       "['\"Ne bena n bolo kɔrɔta siya wɛrɛw faan fɛ,\\n',\n",
       " 'n bena u ka sobabaw halaki.\"\\n',\n",
       " 'Ala tɔgɔ la, nɛma tigi, hine tigi.\\n',\n",
       " \"k'aw halaki aw ka hakɛw kosɔn.\\n\",\n",
       " \"u be kule ne ma k'a fɔ ko:\\n\"]"
      ]
     },
     "execution_count": 4,
     "metadata": {},
     "output_type": "execute_result"
    }
   ],
   "source": [
    "source_data[:5]"
   ]
  },
  {
   "cell_type": "code",
   "execution_count": 5,
   "metadata": {},
   "outputs": [
    {
     "data": {
      "text/plain": [
       "[' (Nom et prénoms profanes).\\n',\n",
       " ' (Nom et prénoms profanes).\\n',\n",
       " 'Au nom de Dieu, le Tout‐Miséricordieux, le Miséricordieux.\\n',\n",
       " ' (Dans le mauvais sens du terme).\\n',\n",
       " \"Voilà ce qu'ils m'ont (vraiment) dit:\\n\"]"
      ]
     },
     "execution_count": 5,
     "metadata": {},
     "output_type": "execute_result"
    }
   ],
   "source": [
    "target_data[:5]"
   ]
  },
  {
   "cell_type": "code",
   "execution_count": 6,
   "metadata": {},
   "outputs": [
    {
     "data": {
      "text/plain": [
       "['maloya tun be minw kunna i ko doni,\\n',\n",
       " 'Masaba ka to ɲumankɛlaw fɛ.\"\\n',\n",
       " 'Ni ne tun ye hakɛ yafa saraka sogo nin ɲimi bii, o tun bena diya Masaba ye wa?\"\\n',\n",
       " 'Ibrayima ka baaraden sinna ka ɲɔgɔmɛ tan ta ka tagama jan kɛ.\\n',\n",
       " 'Ni min tora kɔfɛ, o tigi bena faga.\"\\n']"
      ]
     },
     "execution_count": 6,
     "metadata": {},
     "output_type": "execute_result"
    }
   ],
   "source": [
    "source_data[10:15]"
   ]
  },
  {
   "cell_type": "code",
   "execution_count": 7,
   "metadata": {},
   "outputs": [
    {
     "data": {
      "text/plain": [
       "[' (Se dit en mauvaise part).\\n',\n",
       " 'Car Dieu est avec ceux qui sont endurants.\"\\n',\n",
       " 'Serais-je comme aujourd\\'hui une guérisseuse?\"\\n',\n",
       " 'Où ils prennent des dizaines de km.\\n',\n",
       " 'Celui qui a péché, c\\'est lui qui mourra.\"\\n']"
      ]
     },
     "execution_count": 7,
     "metadata": {},
     "output_type": "execute_result"
    }
   ],
   "source": [
    "target_data[10:15]"
   ]
  },
  {
   "cell_type": "code",
   "execution_count": 8,
   "metadata": {},
   "outputs": [
    {
     "data": {
      "text/plain": [
       "(1166, 1166)"
      ]
     },
     "execution_count": 8,
     "metadata": {},
     "output_type": "execute_result"
    }
   ],
   "source": [
    "source_language_path = \"extra_dataset/bam-fr.txt/QED.bam-fr.bam\"\n",
    "target_language_path = \"extra_dataset/bam-fr.txt/QED.bam-fr.fr\"\n",
    "\n",
    "source_data = open(source_language_path, \"r\").readlines()\n",
    "target_data = open(target_language_path, \"r\").readlines()\n",
    "\n",
    "len(source_data), len(target_data)"
   ]
  },
  {
   "cell_type": "code",
   "execution_count": 9,
   "metadata": {},
   "outputs": [
    {
     "data": {
      "text/plain": [
       "['A feliratot készítette:Andi (facebbok oldalunk,Kuzey Güney Tűz és Víz 2.évad magyar felirat)\\n',\n",
       " 'K U Z E Y G U N E Y 78.rész\\n',\n",
       " 'Sümer!\\n',\n",
       " 'Én vagyok! Én vagyok az, Kuzey!\\n',\n",
       " 'Ember, nyisd ki az ajtót!\\n',\n",
       " 'Ember,nyisd ki az ajtót,nem foglak bántani\\n',\n",
       " 'Figyelj!\\n',\n",
       " 'Én....\\n',\n",
       " 'Ember, figyelj..... ....em csinálok veled semmit, nem foglak bántani ... csak beszélni akarok veled, mint férfi a férfival ...\\n',\n",
       " 'Ember!!!\\n']"
      ]
     },
     "execution_count": 9,
     "metadata": {},
     "output_type": "execute_result"
    }
   ],
   "source": [
    "source_data[:10]"
   ]
  },
  {
   "cell_type": "code",
   "execution_count": 10,
   "metadata": {},
   "outputs": [
    {
     "data": {
      "text/plain": [
       "['Sous-titres par Kuzey Guney Team @ Viki\\n',\n",
       " 'K U Z E G Y U N E Y\\n',\n",
       " 'ÉPISODE 78 Sumer !\\n',\n",
       " \"Je suis venu, c'est moi Kuzey.\\n\",\n",
       " \"Garçon, ouvrir la porte maintenant, l'homme.\\n\",\n",
       " \"L'homme, ouvrir la porte je ne fera rien pour vous...\\n\",\n",
       " 'Regardez ici !\\n',\n",
       " 'Je vais... Vous...\\n',\n",
       " \"Regardez ici, l'homme... L'homme, je ne vais pas faire quelque chose que je veux juste...\\n\",\n",
       " 'Homme!!!\\n']"
      ]
     },
     "execution_count": 10,
     "metadata": {},
     "output_type": "execute_result"
    }
   ],
   "source": [
    "target_data[:10]"
   ]
  },
  {
   "cell_type": "code",
   "execution_count": 11,
   "metadata": {},
   "outputs": [
    {
     "data": {
      "text/plain": [
       "(307529, 307529)"
      ]
     },
     "execution_count": 11,
     "metadata": {},
     "output_type": "execute_result"
    }
   ],
   "source": [
    "source_language_path = \"extra_dataset/bm-fr.txt/NLLB.bm-fr.bm\"\n",
    "target_language_path = \"extra_dataset/bm-fr.txt/NLLB.bm-fr.fr\"\n",
    "\n",
    "source_data = open(source_language_path, \"r\").readlines()\n",
    "target_data = open(target_language_path, \"r\").readlines()\n",
    "\n",
    "len(source_data), len(target_data)"
   ]
  },
  {
   "cell_type": "code",
   "execution_count": 12,
   "metadata": {},
   "outputs": [
    {
     "data": {
      "text/plain": [
       "[\"O ni ma béru ma foya t'aye ba fé hate wa\\n\",\n",
       " \"ani lɔnniya sɔrɔyɔrɔ ɲini k'a lɔn,\\n\",\n",
       " 'Ya Allah anw djouroumou yafa ni ga hinai yé\\n',\n",
       " 'Kuma kɔrɔman bɛ fɔ a kɔrɔ lɔnbaga le ye.\\n',\n",
       " \"Ne bɛ n'kelen na, ani ne sirannen don, u bɛna ne faga.'\\n\",\n",
       " \"Oui ben ça j'm'en doutais, gnin gnin gnin !\\n\",\n",
       " 'Hɔrɔnya tɛ lajɛ tun, fɔ jufakɔnɔfɛn,\\n',\n",
       " 'I ga kun da hasaraw ka laala hay, I biney mo go ga halliyaŋ soola.\"\\n',\n",
       " 'Ni aw bɛ se ka a tigi tansiyɔn ta, aw bɛ to ka o fana jateminɛ.\\n',\n",
       " 'Mɔgɔ min bɛ dugu kun na bibi in na, o ye Yakuba Kɔrɔfa Danbɛlɛ ye.\\n']"
      ]
     },
     "execution_count": 12,
     "metadata": {},
     "output_type": "execute_result"
    }
   ],
   "source": [
    "source_data[:10]"
   ]
  },
  {
   "cell_type": "code",
   "execution_count": 13,
   "metadata": {},
   "outputs": [
    {
     "data": {
      "text/plain": [
       "[\"Ce jour-là ne sera ni celui de l'oubli ni celui du pardon.\\n\",\n",
       " \"Il est l'Entendeur, l'Omniscient.\\n\",\n",
       " 'Allah est indulgent et miséricordieux.\\n',\n",
       " \"Il est l'Entendeur, l'Omniscient.\\n\",\n",
       " \"C'est lui qui va nourrir mon émission et c'est lui qui a peur.\\n\",\n",
       " \" (Qu'ils auront eu avant en fait, donc).\\n\",\n",
       " ' (Dans le mauvais sens du terme).\\n',\n",
       " 'Voyez la malédiction qui pèse sur moi.\"\\n',\n",
       " \"Et si vous êtes reconnaissants, Il l'agrée pour vous.\\n\",\n",
       " 'Ye (鄴), une ville de la Chine ancienne;\\n']"
      ]
     },
     "execution_count": 13,
     "metadata": {},
     "output_type": "execute_result"
    }
   ],
   "source": [
    "target_data[:10]"
   ]
  },
  {
   "cell_type": "code",
   "execution_count": 2,
   "metadata": {},
   "outputs": [],
   "source": [
    "import datasets\n",
    "\n",
    "def load_bible(langi = \"dyu\", langj = \"fr\", task = \"NLLB\"):\n",
    "    linesi = open(f\"extra_dataset/{langi}-{langj}.txt/{task}.{langi}-{langj}.{langi}\").readlines()\n",
    "    linesj = open(f\"extra_dataset/{langi}-{langj}.txt/{task}.{langi}-{langj}.{langj}\").readlines()\n",
    "    data = [\n",
    "        {\n",
    "            \"ID\": \"bible_\" + str(i), \"translation\": {\n",
    "                langi: linei, langj: linej,\n",
    "            }\n",
    "        } for i, (linei, linej) in enumerate(zip(linesi, linesj))\n",
    "    ]\n",
    "    return datasets.Dataset.from_list(data)\n",
    "\n",
    "dataset: datasets.Dataset = datasets.load_dataset(\"uvci/Koumankan_mt_dyu_fr\")[\"train\"]\n",
    "bible_ds = load_bible()"
   ]
  },
  {
   "cell_type": "code",
   "execution_count": 3,
   "metadata": {},
   "outputs": [
    {
     "data": {
      "text/plain": [
       "Dataset({\n",
       "    features: ['ID', 'translation'],\n",
       "    num_rows: 8065\n",
       "})"
      ]
     },
     "execution_count": 3,
     "metadata": {},
     "output_type": "execute_result"
    }
   ],
   "source": [
    "dataset"
   ]
  },
  {
   "cell_type": "code",
   "execution_count": 4,
   "metadata": {},
   "outputs": [
    {
     "data": {
      "text/plain": [
       "Dataset({\n",
       "    features: ['ID', 'translation'],\n",
       "    num_rows: 369450\n",
       "})"
      ]
     },
     "execution_count": 4,
     "metadata": {},
     "output_type": "execute_result"
    }
   ],
   "source": [
    "bible_ds"
   ]
  },
  {
   "cell_type": "code",
   "execution_count": 5,
   "metadata": {},
   "outputs": [
    {
     "ename": "ValueError",
     "evalue": "The features can't be aligned because the key translation of features {'ID': Value(dtype='string', id=None), 'translation': Translation(languages=['dyu', 'fr'], id=None)} has unexpected type - Translation(languages=['dyu', 'fr'], id=None) (expected either {'dyu': Value(dtype='string', id=None), 'fr': Value(dtype='string', id=None)} or Value(\"null\").",
     "output_type": "error",
     "traceback": [
      "\u001b[0;31m---------------------------------------------------------------------------\u001b[0m",
      "\u001b[0;31mValueError\u001b[0m                                Traceback (most recent call last)",
      "Cell \u001b[0;32mIn[5], line 1\u001b[0m\n\u001b[0;32m----> 1\u001b[0m data \u001b[38;5;241m=\u001b[39m \u001b[43mdatasets\u001b[49m\u001b[38;5;241;43m.\u001b[39;49m\u001b[43mconcatenate_datasets\u001b[49m\u001b[43m(\u001b[49m\u001b[43m[\u001b[49m\u001b[43mbible_ds\u001b[49m\u001b[43m,\u001b[49m\u001b[43m \u001b[49m\u001b[43mdataset\u001b[49m\u001b[43m]\u001b[49m\u001b[43m)\u001b[49m\n",
      "File \u001b[0;32m~/learning/zindi_challenge/machine_translation/.venv/lib/python3.9/site-packages/datasets/combine.py:213\u001b[0m, in \u001b[0;36mconcatenate_datasets\u001b[0;34m(dsets, info, split, axis)\u001b[0m\n\u001b[1;32m    209\u001b[0m         \u001b[38;5;28;01mraise\u001b[39;00m \u001b[38;5;167;01mValueError\u001b[39;00m(\n\u001b[1;32m    210\u001b[0m             \u001b[38;5;124mf\u001b[39m\u001b[38;5;124m\"\u001b[39m\u001b[38;5;124mUnable to interleave a \u001b[39m\u001b[38;5;132;01m{\u001b[39;00mdataset_type\u001b[38;5;241m.\u001b[39m\u001b[38;5;18m__name__\u001b[39m\u001b[38;5;132;01m}\u001b[39;00m\u001b[38;5;124m (at position 0) with a \u001b[39m\u001b[38;5;132;01m{\u001b[39;00mother_type\u001b[38;5;241m.\u001b[39m\u001b[38;5;18m__name__\u001b[39m\u001b[38;5;132;01m}\u001b[39;00m\u001b[38;5;124m (at position \u001b[39m\u001b[38;5;132;01m{\u001b[39;00mi\u001b[38;5;132;01m}\u001b[39;00m\u001b[38;5;124m). Expected a list of Dataset objects or a list of IterableDataset objects.\u001b[39m\u001b[38;5;124m\"\u001b[39m\n\u001b[1;32m    211\u001b[0m         )\n\u001b[1;32m    212\u001b[0m \u001b[38;5;28;01mif\u001b[39;00m dataset_type \u001b[38;5;129;01mis\u001b[39;00m Dataset:\n\u001b[0;32m--> 213\u001b[0m     \u001b[38;5;28;01mreturn\u001b[39;00m \u001b[43m_concatenate_map_style_datasets\u001b[49m\u001b[43m(\u001b[49m\u001b[43mdsets\u001b[49m\u001b[43m,\u001b[49m\u001b[43m \u001b[49m\u001b[43minfo\u001b[49m\u001b[38;5;241;43m=\u001b[39;49m\u001b[43minfo\u001b[49m\u001b[43m,\u001b[49m\u001b[43m \u001b[49m\u001b[43msplit\u001b[49m\u001b[38;5;241;43m=\u001b[39;49m\u001b[43msplit\u001b[49m\u001b[43m,\u001b[49m\u001b[43m \u001b[49m\u001b[43maxis\u001b[49m\u001b[38;5;241;43m=\u001b[39;49m\u001b[43maxis\u001b[49m\u001b[43m)\u001b[49m\n\u001b[1;32m    214\u001b[0m \u001b[38;5;28;01melse\u001b[39;00m:\n\u001b[1;32m    215\u001b[0m     \u001b[38;5;28;01mreturn\u001b[39;00m _concatenate_iterable_datasets(dsets, info\u001b[38;5;241m=\u001b[39minfo, split\u001b[38;5;241m=\u001b[39msplit, axis\u001b[38;5;241m=\u001b[39maxis)\n",
      "File \u001b[0;32m~/learning/zindi_challenge/machine_translation/.venv/lib/python3.9/site-packages/datasets/arrow_dataset.py:6234\u001b[0m, in \u001b[0;36m_concatenate_map_style_datasets\u001b[0;34m(dsets, info, split, axis)\u001b[0m\n\u001b[1;32m   6232\u001b[0m \u001b[38;5;66;03m# Perform checks (and a potentional cast if axis=0)\u001b[39;00m\n\u001b[1;32m   6233\u001b[0m \u001b[38;5;28;01mif\u001b[39;00m axis \u001b[38;5;241m==\u001b[39m \u001b[38;5;241m0\u001b[39m:\n\u001b[0;32m-> 6234\u001b[0m     \u001b[43m_check_if_features_can_be_aligned\u001b[49m\u001b[43m(\u001b[49m\u001b[43m[\u001b[49m\u001b[43mdset\u001b[49m\u001b[38;5;241;43m.\u001b[39;49m\u001b[43mfeatures\u001b[49m\u001b[43m \u001b[49m\u001b[38;5;28;43;01mfor\u001b[39;49;00m\u001b[43m \u001b[49m\u001b[43mdset\u001b[49m\u001b[43m \u001b[49m\u001b[38;5;129;43;01min\u001b[39;49;00m\u001b[43m \u001b[49m\u001b[43mdsets\u001b[49m\u001b[43m]\u001b[49m\u001b[43m)\u001b[49m\n\u001b[1;32m   6235\u001b[0m \u001b[38;5;28;01melse\u001b[39;00m:\n\u001b[1;32m   6236\u001b[0m     \u001b[38;5;28;01mif\u001b[39;00m \u001b[38;5;129;01mnot\u001b[39;00m \u001b[38;5;28mall\u001b[39m(dset\u001b[38;5;241m.\u001b[39mnum_rows \u001b[38;5;241m==\u001b[39m dsets[\u001b[38;5;241m0\u001b[39m]\u001b[38;5;241m.\u001b[39mnum_rows \u001b[38;5;28;01mfor\u001b[39;00m dset \u001b[38;5;129;01min\u001b[39;00m dsets):\n",
      "File \u001b[0;32m~/learning/zindi_challenge/machine_translation/.venv/lib/python3.9/site-packages/datasets/features/features.py:2200\u001b[0m, in \u001b[0;36m_check_if_features_can_be_aligned\u001b[0;34m(features_list)\u001b[0m\n\u001b[1;32m   2198\u001b[0m     _check_if_features_can_be_aligned([name2feature[k], v])\n\u001b[1;32m   2199\u001b[0m \u001b[38;5;28;01melif\u001b[39;00m \u001b[38;5;129;01mnot\u001b[39;00m (\u001b[38;5;28misinstance\u001b[39m(v, Value) \u001b[38;5;129;01mand\u001b[39;00m v\u001b[38;5;241m.\u001b[39mdtype \u001b[38;5;241m==\u001b[39m \u001b[38;5;124m\"\u001b[39m\u001b[38;5;124mnull\u001b[39m\u001b[38;5;124m\"\u001b[39m) \u001b[38;5;129;01mand\u001b[39;00m name2feature[k] \u001b[38;5;241m!=\u001b[39m v:\n\u001b[0;32m-> 2200\u001b[0m     \u001b[38;5;28;01mraise\u001b[39;00m \u001b[38;5;167;01mValueError\u001b[39;00m(\n\u001b[1;32m   2201\u001b[0m         \u001b[38;5;124mf\u001b[39m\u001b[38;5;124m'\u001b[39m\u001b[38;5;124mThe features can\u001b[39m\u001b[38;5;130;01m\\'\u001b[39;00m\u001b[38;5;124mt be aligned because the key \u001b[39m\u001b[38;5;132;01m{\u001b[39;00mk\u001b[38;5;132;01m}\u001b[39;00m\u001b[38;5;124m of features \u001b[39m\u001b[38;5;132;01m{\u001b[39;00mfeatures\u001b[38;5;132;01m}\u001b[39;00m\u001b[38;5;124m has unexpected type - \u001b[39m\u001b[38;5;132;01m{\u001b[39;00mv\u001b[38;5;132;01m}\u001b[39;00m\u001b[38;5;124m (expected either \u001b[39m\u001b[38;5;132;01m{\u001b[39;00mname2feature[k]\u001b[38;5;132;01m}\u001b[39;00m\u001b[38;5;124m or Value(\u001b[39m\u001b[38;5;124m\"\u001b[39m\u001b[38;5;124mnull\u001b[39m\u001b[38;5;124m\"\u001b[39m\u001b[38;5;124m).\u001b[39m\u001b[38;5;124m'\u001b[39m\n\u001b[1;32m   2202\u001b[0m     )\n",
      "\u001b[0;31mValueError\u001b[0m: The features can't be aligned because the key translation of features {'ID': Value(dtype='string', id=None), 'translation': Translation(languages=['dyu', 'fr'], id=None)} has unexpected type - Translation(languages=['dyu', 'fr'], id=None) (expected either {'dyu': Value(dtype='string', id=None), 'fr': Value(dtype='string', id=None)} or Value(\"null\")."
     ]
    }
   ],
   "source": [
    "data = datasets.concatenate_datasets([bible_ds, dataset])"
   ]
  },
  {
   "cell_type": "code",
   "execution_count": 6,
   "metadata": {},
   "outputs": [
    {
     "data": {
      "text/plain": [
       "{'ID': 'ID_18897661270129',\n",
       " 'translation': {'dyu': 'A bi ji min na', 'fr': 'Il boit de l’eau.'}}"
      ]
     },
     "execution_count": 6,
     "metadata": {},
     "output_type": "execute_result"
    }
   ],
   "source": [
    "result = dataset.to_list()\n",
    "\n",
    "result[0]"
   ]
  },
  {
   "cell_type": "code",
   "execution_count": 7,
   "metadata": {},
   "outputs": [],
   "source": [
    "data = datasets.concatenate_datasets([bible_ds, datasets.Dataset.from_list(dataset.to_list())])"
   ]
  },
  {
   "cell_type": "code",
   "execution_count": 8,
   "metadata": {},
   "outputs": [
    {
     "data": {
      "text/plain": [
       "Dataset({\n",
       "    features: ['ID', 'translation'],\n",
       "    num_rows: 377515\n",
       "})"
      ]
     },
     "execution_count": 8,
     "metadata": {},
     "output_type": "execute_result"
    }
   ],
   "source": [
    "data"
   ]
  },
  {
   "cell_type": "code",
   "execution_count": null,
   "metadata": {},
   "outputs": [],
   "source": []
  }
 ],
 "metadata": {
  "kernelspec": {
   "display_name": ".venv",
   "language": "python",
   "name": "python3"
  },
  "language_info": {
   "codemirror_mode": {
    "name": "ipython",
    "version": 3
   },
   "file_extension": ".py",
   "mimetype": "text/x-python",
   "name": "python",
   "nbconvert_exporter": "python",
   "pygments_lexer": "ipython3",
   "version": "3.9.18"
  }
 },
 "nbformat": 4,
 "nbformat_minor": 2
}
