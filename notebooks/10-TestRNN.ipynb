{
 "cells": [
  {
   "cell_type": "code",
   "execution_count": 1,
   "metadata": {},
   "outputs": [
    {
     "name": "stdout",
     "output_type": "stream",
     "text": [
      "/data/home/eak/learning/zindi_challenge/machine_translation/machine-translation-zindi\n"
     ]
    }
   ],
   "source": [
    "%cd  .."
   ]
  },
  {
   "cell_type": "code",
   "execution_count": 6,
   "metadata": {},
   "outputs": [],
   "source": [
    "from transformers import MarianConfig, MarianMTModel\n",
    "import json"
   ]
  },
  {
   "cell_type": "code",
   "execution_count": 7,
   "metadata": {},
   "outputs": [
    {
     "data": {
      "text/plain": [
       "MarianConfig {\n",
       "  \"_name_or_path\": \"/tmp/Helsinki-NLP/opus-mt-yo-fr\",\n",
       "  \"_num_labels\": 3,\n",
       "  \"activation_dropout\": 0.0,\n",
       "  \"activation_function\": \"swish\",\n",
       "  \"add_bias_logits\": false,\n",
       "  \"add_final_layer_norm\": false,\n",
       "  \"architectures\": [\n",
       "    \"MarianMTModel\"\n",
       "  ],\n",
       "  \"attention_dropout\": 0.1,\n",
       "  \"bad_words_ids\": [\n",
       "    [\n",
       "      59614\n",
       "    ]\n",
       "  ],\n",
       "  \"bos_token_id\": 0,\n",
       "  \"classif_dropout\": 0.0,\n",
       "  \"classifier_dropout\": 0.0,\n",
       "  \"d_model\": 512,\n",
       "  \"decoder_attention_heads\": 8,\n",
       "  \"decoder_ffn_dim\": 2048,\n",
       "  \"decoder_layerdrop\": 0.0,\n",
       "  \"decoder_layers\": 6,\n",
       "  \"decoder_start_token_id\": 2,\n",
       "  \"decoder_vocab_size\": 59615,\n",
       "  \"dropout\": 0.1,\n",
       "  \"encoder_attention_heads\": 8,\n",
       "  \"encoder_ffn_dim\": 2048,\n",
       "  \"encoder_layerdrop\": 0.0,\n",
       "  \"encoder_layers\": 6,\n",
       "  \"eos_token_id\": 2,\n",
       "  \"forced_eos_token_id\": 0,\n",
       "  \"id2label\": {\n",
       "    \"0\": \"LABEL_0\",\n",
       "    \"1\": \"LABEL_1\",\n",
       "    \"2\": \"LABEL_2\"\n",
       "  },\n",
       "  \"init_std\": 0.02,\n",
       "  \"is_encoder_decoder\": true,\n",
       "  \"label2id\": {\n",
       "    \"LABEL_0\": 0,\n",
       "    \"LABEL_1\": 1,\n",
       "    \"LABEL_2\": 2\n",
       "  },\n",
       "  \"max_length\": 200,\n",
       "  \"max_position_embeddings\": 512,\n",
       "  \"model_type\": \"marian\",\n",
       "  \"normalize_before\": false,\n",
       "  \"normalize_embedding\": false,\n",
       "  \"num_beams\": 6,\n",
       "  \"num_hidden_layers\": 6,\n",
       "  \"pad_token_id\": 1,\n",
       "  \"scale_embedding\": true,\n",
       "  \"share_encoder_decoder_embeddings\": true,\n",
       "  \"static_position_embeddings\": true,\n",
       "  \"transformers_version\": \"4.41.2\",\n",
       "  \"use_cache\": true,\n",
       "  \"vocab_size\": 256206\n",
       "}"
      ]
     },
     "execution_count": 7,
     "metadata": {},
     "output_type": "execute_result"
    }
   ],
   "source": [
    "config = MarianConfig.from_json_file(\"extra_dataset/configs/helsinki.json\")\n",
    "\n",
    "config"
   ]
  },
  {
   "cell_type": "code",
   "execution_count": 8,
   "metadata": {},
   "outputs": [
    {
     "data": {
      "text/plain": [
       "MarianMTModel(\n",
       "  (model): MarianModel(\n",
       "    (shared): Embedding(256206, 512, padding_idx=1)\n",
       "    (encoder): MarianEncoder(\n",
       "      (embed_tokens): Embedding(256206, 512, padding_idx=1)\n",
       "      (embed_positions): MarianSinusoidalPositionalEmbedding(512, 512)\n",
       "      (layers): ModuleList(\n",
       "        (0-5): 6 x MarianEncoderLayer(\n",
       "          (self_attn): MarianAttention(\n",
       "            (k_proj): Linear(in_features=512, out_features=512, bias=True)\n",
       "            (v_proj): Linear(in_features=512, out_features=512, bias=True)\n",
       "            (q_proj): Linear(in_features=512, out_features=512, bias=True)\n",
       "            (out_proj): Linear(in_features=512, out_features=512, bias=True)\n",
       "          )\n",
       "          (self_attn_layer_norm): LayerNorm((512,), eps=1e-05, elementwise_affine=True)\n",
       "          (activation_fn): SiLU()\n",
       "          (fc1): Linear(in_features=512, out_features=2048, bias=True)\n",
       "          (fc2): Linear(in_features=2048, out_features=512, bias=True)\n",
       "          (final_layer_norm): LayerNorm((512,), eps=1e-05, elementwise_affine=True)\n",
       "        )\n",
       "      )\n",
       "    )\n",
       "    (decoder): MarianDecoder(\n",
       "      (embed_tokens): Embedding(256206, 512, padding_idx=1)\n",
       "      (embed_positions): MarianSinusoidalPositionalEmbedding(512, 512)\n",
       "      (layers): ModuleList(\n",
       "        (0-5): 6 x MarianDecoderLayer(\n",
       "          (self_attn): MarianAttention(\n",
       "            (k_proj): Linear(in_features=512, out_features=512, bias=True)\n",
       "            (v_proj): Linear(in_features=512, out_features=512, bias=True)\n",
       "            (q_proj): Linear(in_features=512, out_features=512, bias=True)\n",
       "            (out_proj): Linear(in_features=512, out_features=512, bias=True)\n",
       "          )\n",
       "          (activation_fn): SiLU()\n",
       "          (self_attn_layer_norm): LayerNorm((512,), eps=1e-05, elementwise_affine=True)\n",
       "          (encoder_attn): MarianAttention(\n",
       "            (k_proj): Linear(in_features=512, out_features=512, bias=True)\n",
       "            (v_proj): Linear(in_features=512, out_features=512, bias=True)\n",
       "            (q_proj): Linear(in_features=512, out_features=512, bias=True)\n",
       "            (out_proj): Linear(in_features=512, out_features=512, bias=True)\n",
       "          )\n",
       "          (encoder_attn_layer_norm): LayerNorm((512,), eps=1e-05, elementwise_affine=True)\n",
       "          (fc1): Linear(in_features=512, out_features=2048, bias=True)\n",
       "          (fc2): Linear(in_features=2048, out_features=512, bias=True)\n",
       "          (final_layer_norm): LayerNorm((512,), eps=1e-05, elementwise_affine=True)\n",
       "        )\n",
       "      )\n",
       "    )\n",
       "  )\n",
       "  (lm_head): Linear(in_features=512, out_features=256206, bias=False)\n",
       ")"
      ]
     },
     "execution_count": 8,
     "metadata": {},
     "output_type": "execute_result"
    }
   ],
   "source": [
    "model = MarianMTModel(config)\n",
    "\n",
    "model"
   ]
  },
  {
   "cell_type": "code",
   "execution_count": 9,
   "metadata": {},
   "outputs": [
    {
     "name": "stderr",
     "output_type": "stream",
     "text": [
      "Some non-default generation parameters are set in the model config. These should go into a GenerationConfig file (https://huggingface.co/docs/transformers/generation_strategies#save-a-custom-decoding-strategy-with-your-model) instead. This warning will be raised to an exception in v4.41.\n",
      "Non-default generation parameters: {'max_length': 200, 'num_beams': 6, 'bad_words_ids': [[59614]], 'forced_eos_token_id': 0}\n"
     ]
    }
   ],
   "source": [
    "model.save_pretrained(\"extra_dataset/configs/model\")"
   ]
  },
  {
   "cell_type": "code",
   "execution_count": 1,
   "metadata": {},
   "outputs": [],
   "source": [
    "from transformers import AutoTokenizer\n",
    "\n",
    "src_lang = \"dyu_Latn\"\n",
    "tgt_lang = \"fra_Latn\"\n",
    "tokenizer = AutoTokenizer.from_pretrained(\"facebook/nllb-200-distilled-600M\", model_max_length=200, src_lang=src_lang, tgt_lang=tgt_lang)"
   ]
  },
  {
   "cell_type": "code",
   "execution_count": 2,
   "metadata": {},
   "outputs": [
    {
     "data": {
      "text/plain": [
       "NllbTokenizerFast(name_or_path='facebook/nllb-200-distilled-600M', vocab_size=256204, model_max_length=200, is_fast=True, padding_side='right', truncation_side='right', special_tokens={'bos_token': '<s>', 'eos_token': '</s>', 'unk_token': '<unk>', 'sep_token': '</s>', 'pad_token': '<pad>', 'cls_token': '<s>', 'mask_token': '<mask>', 'additional_special_tokens': ['ace_Arab', 'ace_Latn', 'acm_Arab', 'acq_Arab', 'aeb_Arab', 'afr_Latn', 'ajp_Arab', 'aka_Latn', 'amh_Ethi', 'apc_Arab', 'arb_Arab', 'ars_Arab', 'ary_Arab', 'arz_Arab', 'asm_Beng', 'ast_Latn', 'awa_Deva', 'ayr_Latn', 'azb_Arab', 'azj_Latn', 'bak_Cyrl', 'bam_Latn', 'ban_Latn', 'bel_Cyrl', 'bem_Latn', 'ben_Beng', 'bho_Deva', 'bjn_Arab', 'bjn_Latn', 'bod_Tibt', 'bos_Latn', 'bug_Latn', 'bul_Cyrl', 'cat_Latn', 'ceb_Latn', 'ces_Latn', 'cjk_Latn', 'ckb_Arab', 'crh_Latn', 'cym_Latn', 'dan_Latn', 'deu_Latn', 'dik_Latn', 'dyu_Latn', 'dzo_Tibt', 'ell_Grek', 'eng_Latn', 'epo_Latn', 'est_Latn', 'eus_Latn', 'ewe_Latn', 'fao_Latn', 'pes_Arab', 'fij_Latn', 'fin_Latn', 'fon_Latn', 'fra_Latn', 'fur_Latn', 'fuv_Latn', 'gla_Latn', 'gle_Latn', 'glg_Latn', 'grn_Latn', 'guj_Gujr', 'hat_Latn', 'hau_Latn', 'heb_Hebr', 'hin_Deva', 'hne_Deva', 'hrv_Latn', 'hun_Latn', 'hye_Armn', 'ibo_Latn', 'ilo_Latn', 'ind_Latn', 'isl_Latn', 'ita_Latn', 'jav_Latn', 'jpn_Jpan', 'kab_Latn', 'kac_Latn', 'kam_Latn', 'kan_Knda', 'kas_Arab', 'kas_Deva', 'kat_Geor', 'knc_Arab', 'knc_Latn', 'kaz_Cyrl', 'kbp_Latn', 'kea_Latn', 'khm_Khmr', 'kik_Latn', 'kin_Latn', 'kir_Cyrl', 'kmb_Latn', 'kon_Latn', 'kor_Hang', 'kmr_Latn', 'lao_Laoo', 'lvs_Latn', 'lij_Latn', 'lim_Latn', 'lin_Latn', 'lit_Latn', 'lmo_Latn', 'ltg_Latn', 'ltz_Latn', 'lua_Latn', 'lug_Latn', 'luo_Latn', 'lus_Latn', 'mag_Deva', 'mai_Deva', 'mal_Mlym', 'mar_Deva', 'min_Latn', 'mkd_Cyrl', 'plt_Latn', 'mlt_Latn', 'mni_Beng', 'khk_Cyrl', 'mos_Latn', 'mri_Latn', 'zsm_Latn', 'mya_Mymr', 'nld_Latn', 'nno_Latn', 'nob_Latn', 'npi_Deva', 'nso_Latn', 'nus_Latn', 'nya_Latn', 'oci_Latn', 'gaz_Latn', 'ory_Orya', 'pag_Latn', 'pan_Guru', 'pap_Latn', 'pol_Latn', 'por_Latn', 'prs_Arab', 'pbt_Arab', 'quy_Latn', 'ron_Latn', 'run_Latn', 'rus_Cyrl', 'sag_Latn', 'san_Deva', 'sat_Beng', 'scn_Latn', 'shn_Mymr', 'sin_Sinh', 'slk_Latn', 'slv_Latn', 'smo_Latn', 'sna_Latn', 'snd_Arab', 'som_Latn', 'sot_Latn', 'spa_Latn', 'als_Latn', 'srd_Latn', 'srp_Cyrl', 'ssw_Latn', 'sun_Latn', 'swe_Latn', 'swh_Latn', 'szl_Latn', 'tam_Taml', 'tat_Cyrl', 'tel_Telu', 'tgk_Cyrl', 'tgl_Latn', 'tha_Thai', 'tir_Ethi', 'taq_Latn', 'taq_Tfng', 'tpi_Latn', 'tsn_Latn', 'tso_Latn', 'tuk_Latn', 'tum_Latn', 'tur_Latn', 'twi_Latn', 'tzm_Tfng', 'uig_Arab', 'ukr_Cyrl', 'umb_Latn', 'urd_Arab', 'uzn_Latn', 'vec_Latn', 'vie_Latn', 'war_Latn', 'wol_Latn', 'xho_Latn', 'ydd_Hebr', 'yor_Latn', 'yue_Hant', 'zho_Hans', 'zho_Hant', 'zul_Latn']}, clean_up_tokenization_spaces=True),  added_tokens_decoder={\n",
       "\t0: AddedToken(\"<s>\", rstrip=False, lstrip=False, single_word=False, normalized=False, special=True),\n",
       "\t1: AddedToken(\"<pad>\", rstrip=False, lstrip=False, single_word=False, normalized=False, special=True),\n",
       "\t2: AddedToken(\"</s>\", rstrip=False, lstrip=False, single_word=False, normalized=False, special=True),\n",
       "\t3: AddedToken(\"<unk>\", rstrip=False, lstrip=False, single_word=False, normalized=False, special=True),\n",
       "\t256001: AddedToken(\"ace_Arab\", rstrip=False, lstrip=False, single_word=False, normalized=False, special=True),\n",
       "\t256002: AddedToken(\"ace_Latn\", rstrip=False, lstrip=False, single_word=False, normalized=False, special=True),\n",
       "\t256003: AddedToken(\"acm_Arab\", rstrip=False, lstrip=False, single_word=False, normalized=False, special=True),\n",
       "\t256004: AddedToken(\"acq_Arab\", rstrip=False, lstrip=False, single_word=False, normalized=False, special=True),\n",
       "\t256005: AddedToken(\"aeb_Arab\", rstrip=False, lstrip=False, single_word=False, normalized=False, special=True),\n",
       "\t256006: AddedToken(\"afr_Latn\", rstrip=False, lstrip=False, single_word=False, normalized=False, special=True),\n",
       "\t256007: AddedToken(\"ajp_Arab\", rstrip=False, lstrip=False, single_word=False, normalized=False, special=True),\n",
       "\t256008: AddedToken(\"aka_Latn\", rstrip=False, lstrip=False, single_word=False, normalized=False, special=True),\n",
       "\t256009: AddedToken(\"amh_Ethi\", rstrip=False, lstrip=False, single_word=False, normalized=False, special=True),\n",
       "\t256010: AddedToken(\"apc_Arab\", rstrip=False, lstrip=False, single_word=False, normalized=False, special=True),\n",
       "\t256011: AddedToken(\"arb_Arab\", rstrip=False, lstrip=False, single_word=False, normalized=False, special=True),\n",
       "\t256012: AddedToken(\"ars_Arab\", rstrip=False, lstrip=False, single_word=False, normalized=False, special=True),\n",
       "\t256013: AddedToken(\"ary_Arab\", rstrip=False, lstrip=False, single_word=False, normalized=False, special=True),\n",
       "\t256014: AddedToken(\"arz_Arab\", rstrip=False, lstrip=False, single_word=False, normalized=False, special=True),\n",
       "\t256015: AddedToken(\"asm_Beng\", rstrip=False, lstrip=False, single_word=False, normalized=False, special=True),\n",
       "\t256016: AddedToken(\"ast_Latn\", rstrip=False, lstrip=False, single_word=False, normalized=False, special=True),\n",
       "\t256017: AddedToken(\"awa_Deva\", rstrip=False, lstrip=False, single_word=False, normalized=False, special=True),\n",
       "\t256018: AddedToken(\"ayr_Latn\", rstrip=False, lstrip=False, single_word=False, normalized=False, special=True),\n",
       "\t256019: AddedToken(\"azb_Arab\", rstrip=False, lstrip=False, single_word=False, normalized=False, special=True),\n",
       "\t256020: AddedToken(\"azj_Latn\", rstrip=False, lstrip=False, single_word=False, normalized=False, special=True),\n",
       "\t256021: AddedToken(\"bak_Cyrl\", rstrip=False, lstrip=False, single_word=False, normalized=False, special=True),\n",
       "\t256022: AddedToken(\"bam_Latn\", rstrip=False, lstrip=False, single_word=False, normalized=False, special=True),\n",
       "\t256023: AddedToken(\"ban_Latn\", rstrip=False, lstrip=False, single_word=False, normalized=False, special=True),\n",
       "\t256024: AddedToken(\"bel_Cyrl\", rstrip=False, lstrip=False, single_word=False, normalized=False, special=True),\n",
       "\t256025: AddedToken(\"bem_Latn\", rstrip=False, lstrip=False, single_word=False, normalized=False, special=True),\n",
       "\t256026: AddedToken(\"ben_Beng\", rstrip=False, lstrip=False, single_word=False, normalized=False, special=True),\n",
       "\t256027: AddedToken(\"bho_Deva\", rstrip=False, lstrip=False, single_word=False, normalized=False, special=True),\n",
       "\t256028: AddedToken(\"bjn_Arab\", rstrip=False, lstrip=False, single_word=False, normalized=False, special=True),\n",
       "\t256029: AddedToken(\"bjn_Latn\", rstrip=False, lstrip=False, single_word=False, normalized=False, special=True),\n",
       "\t256030: AddedToken(\"bod_Tibt\", rstrip=False, lstrip=False, single_word=False, normalized=False, special=True),\n",
       "\t256031: AddedToken(\"bos_Latn\", rstrip=False, lstrip=False, single_word=False, normalized=False, special=True),\n",
       "\t256032: AddedToken(\"bug_Latn\", rstrip=False, lstrip=False, single_word=False, normalized=False, special=True),\n",
       "\t256033: AddedToken(\"bul_Cyrl\", rstrip=False, lstrip=False, single_word=False, normalized=False, special=True),\n",
       "\t256034: AddedToken(\"cat_Latn\", rstrip=False, lstrip=False, single_word=False, normalized=False, special=True),\n",
       "\t256035: AddedToken(\"ceb_Latn\", rstrip=False, lstrip=False, single_word=False, normalized=False, special=True),\n",
       "\t256036: AddedToken(\"ces_Latn\", rstrip=False, lstrip=False, single_word=False, normalized=False, special=True),\n",
       "\t256037: AddedToken(\"cjk_Latn\", rstrip=False, lstrip=False, single_word=False, normalized=False, special=True),\n",
       "\t256038: AddedToken(\"ckb_Arab\", rstrip=False, lstrip=False, single_word=False, normalized=False, special=True),\n",
       "\t256039: AddedToken(\"crh_Latn\", rstrip=False, lstrip=False, single_word=False, normalized=False, special=True),\n",
       "\t256040: AddedToken(\"cym_Latn\", rstrip=False, lstrip=False, single_word=False, normalized=False, special=True),\n",
       "\t256041: AddedToken(\"dan_Latn\", rstrip=False, lstrip=False, single_word=False, normalized=False, special=True),\n",
       "\t256042: AddedToken(\"deu_Latn\", rstrip=False, lstrip=False, single_word=False, normalized=False, special=True),\n",
       "\t256043: AddedToken(\"dik_Latn\", rstrip=False, lstrip=False, single_word=False, normalized=False, special=True),\n",
       "\t256044: AddedToken(\"dyu_Latn\", rstrip=False, lstrip=False, single_word=False, normalized=False, special=True),\n",
       "\t256045: AddedToken(\"dzo_Tibt\", rstrip=False, lstrip=False, single_word=False, normalized=False, special=True),\n",
       "\t256046: AddedToken(\"ell_Grek\", rstrip=False, lstrip=False, single_word=False, normalized=False, special=True),\n",
       "\t256047: AddedToken(\"eng_Latn\", rstrip=False, lstrip=False, single_word=False, normalized=False, special=True),\n",
       "\t256048: AddedToken(\"epo_Latn\", rstrip=False, lstrip=False, single_word=False, normalized=False, special=True),\n",
       "\t256049: AddedToken(\"est_Latn\", rstrip=False, lstrip=False, single_word=False, normalized=False, special=True),\n",
       "\t256050: AddedToken(\"eus_Latn\", rstrip=False, lstrip=False, single_word=False, normalized=False, special=True),\n",
       "\t256051: AddedToken(\"ewe_Latn\", rstrip=False, lstrip=False, single_word=False, normalized=False, special=True),\n",
       "\t256052: AddedToken(\"fao_Latn\", rstrip=False, lstrip=False, single_word=False, normalized=False, special=True),\n",
       "\t256053: AddedToken(\"pes_Arab\", rstrip=False, lstrip=False, single_word=False, normalized=False, special=True),\n",
       "\t256054: AddedToken(\"fij_Latn\", rstrip=False, lstrip=False, single_word=False, normalized=False, special=True),\n",
       "\t256055: AddedToken(\"fin_Latn\", rstrip=False, lstrip=False, single_word=False, normalized=False, special=True),\n",
       "\t256056: AddedToken(\"fon_Latn\", rstrip=False, lstrip=False, single_word=False, normalized=False, special=True),\n",
       "\t256057: AddedToken(\"fra_Latn\", rstrip=False, lstrip=False, single_word=False, normalized=False, special=True),\n",
       "\t256058: AddedToken(\"fur_Latn\", rstrip=False, lstrip=False, single_word=False, normalized=False, special=True),\n",
       "\t256059: AddedToken(\"fuv_Latn\", rstrip=False, lstrip=False, single_word=False, normalized=False, special=True),\n",
       "\t256060: AddedToken(\"gla_Latn\", rstrip=False, lstrip=False, single_word=False, normalized=False, special=True),\n",
       "\t256061: AddedToken(\"gle_Latn\", rstrip=False, lstrip=False, single_word=False, normalized=False, special=True),\n",
       "\t256062: AddedToken(\"glg_Latn\", rstrip=False, lstrip=False, single_word=False, normalized=False, special=True),\n",
       "\t256063: AddedToken(\"grn_Latn\", rstrip=False, lstrip=False, single_word=False, normalized=False, special=True),\n",
       "\t256064: AddedToken(\"guj_Gujr\", rstrip=False, lstrip=False, single_word=False, normalized=False, special=True),\n",
       "\t256065: AddedToken(\"hat_Latn\", rstrip=False, lstrip=False, single_word=False, normalized=False, special=True),\n",
       "\t256066: AddedToken(\"hau_Latn\", rstrip=False, lstrip=False, single_word=False, normalized=False, special=True),\n",
       "\t256067: AddedToken(\"heb_Hebr\", rstrip=False, lstrip=False, single_word=False, normalized=False, special=True),\n",
       "\t256068: AddedToken(\"hin_Deva\", rstrip=False, lstrip=False, single_word=False, normalized=False, special=True),\n",
       "\t256069: AddedToken(\"hne_Deva\", rstrip=False, lstrip=False, single_word=False, normalized=False, special=True),\n",
       "\t256070: AddedToken(\"hrv_Latn\", rstrip=False, lstrip=False, single_word=False, normalized=False, special=True),\n",
       "\t256071: AddedToken(\"hun_Latn\", rstrip=False, lstrip=False, single_word=False, normalized=False, special=True),\n",
       "\t256072: AddedToken(\"hye_Armn\", rstrip=False, lstrip=False, single_word=False, normalized=False, special=True),\n",
       "\t256073: AddedToken(\"ibo_Latn\", rstrip=False, lstrip=False, single_word=False, normalized=False, special=True),\n",
       "\t256074: AddedToken(\"ilo_Latn\", rstrip=False, lstrip=False, single_word=False, normalized=False, special=True),\n",
       "\t256075: AddedToken(\"ind_Latn\", rstrip=False, lstrip=False, single_word=False, normalized=False, special=True),\n",
       "\t256076: AddedToken(\"isl_Latn\", rstrip=False, lstrip=False, single_word=False, normalized=False, special=True),\n",
       "\t256077: AddedToken(\"ita_Latn\", rstrip=False, lstrip=False, single_word=False, normalized=False, special=True),\n",
       "\t256078: AddedToken(\"jav_Latn\", rstrip=False, lstrip=False, single_word=False, normalized=False, special=True),\n",
       "\t256079: AddedToken(\"jpn_Jpan\", rstrip=False, lstrip=False, single_word=False, normalized=False, special=True),\n",
       "\t256080: AddedToken(\"kab_Latn\", rstrip=False, lstrip=False, single_word=False, normalized=False, special=True),\n",
       "\t256081: AddedToken(\"kac_Latn\", rstrip=False, lstrip=False, single_word=False, normalized=False, special=True),\n",
       "\t256082: AddedToken(\"kam_Latn\", rstrip=False, lstrip=False, single_word=False, normalized=False, special=True),\n",
       "\t256083: AddedToken(\"kan_Knda\", rstrip=False, lstrip=False, single_word=False, normalized=False, special=True),\n",
       "\t256084: AddedToken(\"kas_Arab\", rstrip=False, lstrip=False, single_word=False, normalized=False, special=True),\n",
       "\t256085: AddedToken(\"kas_Deva\", rstrip=False, lstrip=False, single_word=False, normalized=False, special=True),\n",
       "\t256086: AddedToken(\"kat_Geor\", rstrip=False, lstrip=False, single_word=False, normalized=False, special=True),\n",
       "\t256087: AddedToken(\"knc_Arab\", rstrip=False, lstrip=False, single_word=False, normalized=False, special=True),\n",
       "\t256088: AddedToken(\"knc_Latn\", rstrip=False, lstrip=False, single_word=False, normalized=False, special=True),\n",
       "\t256089: AddedToken(\"kaz_Cyrl\", rstrip=False, lstrip=False, single_word=False, normalized=False, special=True),\n",
       "\t256090: AddedToken(\"kbp_Latn\", rstrip=False, lstrip=False, single_word=False, normalized=False, special=True),\n",
       "\t256091: AddedToken(\"kea_Latn\", rstrip=False, lstrip=False, single_word=False, normalized=False, special=True),\n",
       "\t256092: AddedToken(\"khm_Khmr\", rstrip=False, lstrip=False, single_word=False, normalized=False, special=True),\n",
       "\t256093: AddedToken(\"kik_Latn\", rstrip=False, lstrip=False, single_word=False, normalized=False, special=True),\n",
       "\t256094: AddedToken(\"kin_Latn\", rstrip=False, lstrip=False, single_word=False, normalized=False, special=True),\n",
       "\t256095: AddedToken(\"kir_Cyrl\", rstrip=False, lstrip=False, single_word=False, normalized=False, special=True),\n",
       "\t256096: AddedToken(\"kmb_Latn\", rstrip=False, lstrip=False, single_word=False, normalized=False, special=True),\n",
       "\t256097: AddedToken(\"kon_Latn\", rstrip=False, lstrip=False, single_word=False, normalized=False, special=True),\n",
       "\t256098: AddedToken(\"kor_Hang\", rstrip=False, lstrip=False, single_word=False, normalized=False, special=True),\n",
       "\t256099: AddedToken(\"kmr_Latn\", rstrip=False, lstrip=False, single_word=False, normalized=False, special=True),\n",
       "\t256100: AddedToken(\"lao_Laoo\", rstrip=False, lstrip=False, single_word=False, normalized=False, special=True),\n",
       "\t256101: AddedToken(\"lvs_Latn\", rstrip=False, lstrip=False, single_word=False, normalized=False, special=True),\n",
       "\t256102: AddedToken(\"lij_Latn\", rstrip=False, lstrip=False, single_word=False, normalized=False, special=True),\n",
       "\t256103: AddedToken(\"lim_Latn\", rstrip=False, lstrip=False, single_word=False, normalized=False, special=True),\n",
       "\t256104: AddedToken(\"lin_Latn\", rstrip=False, lstrip=False, single_word=False, normalized=False, special=True),\n",
       "\t256105: AddedToken(\"lit_Latn\", rstrip=False, lstrip=False, single_word=False, normalized=False, special=True),\n",
       "\t256106: AddedToken(\"lmo_Latn\", rstrip=False, lstrip=False, single_word=False, normalized=False, special=True),\n",
       "\t256107: AddedToken(\"ltg_Latn\", rstrip=False, lstrip=False, single_word=False, normalized=False, special=True),\n",
       "\t256108: AddedToken(\"ltz_Latn\", rstrip=False, lstrip=False, single_word=False, normalized=False, special=True),\n",
       "\t256109: AddedToken(\"lua_Latn\", rstrip=False, lstrip=False, single_word=False, normalized=False, special=True),\n",
       "\t256110: AddedToken(\"lug_Latn\", rstrip=False, lstrip=False, single_word=False, normalized=False, special=True),\n",
       "\t256111: AddedToken(\"luo_Latn\", rstrip=False, lstrip=False, single_word=False, normalized=False, special=True),\n",
       "\t256112: AddedToken(\"lus_Latn\", rstrip=False, lstrip=False, single_word=False, normalized=False, special=True),\n",
       "\t256113: AddedToken(\"mag_Deva\", rstrip=False, lstrip=False, single_word=False, normalized=False, special=True),\n",
       "\t256114: AddedToken(\"mai_Deva\", rstrip=False, lstrip=False, single_word=False, normalized=False, special=True),\n",
       "\t256115: AddedToken(\"mal_Mlym\", rstrip=False, lstrip=False, single_word=False, normalized=False, special=True),\n",
       "\t256116: AddedToken(\"mar_Deva\", rstrip=False, lstrip=False, single_word=False, normalized=False, special=True),\n",
       "\t256117: AddedToken(\"min_Latn\", rstrip=False, lstrip=False, single_word=False, normalized=False, special=True),\n",
       "\t256118: AddedToken(\"mkd_Cyrl\", rstrip=False, lstrip=False, single_word=False, normalized=False, special=True),\n",
       "\t256119: AddedToken(\"plt_Latn\", rstrip=False, lstrip=False, single_word=False, normalized=False, special=True),\n",
       "\t256120: AddedToken(\"mlt_Latn\", rstrip=False, lstrip=False, single_word=False, normalized=False, special=True),\n",
       "\t256121: AddedToken(\"mni_Beng\", rstrip=False, lstrip=False, single_word=False, normalized=False, special=True),\n",
       "\t256122: AddedToken(\"khk_Cyrl\", rstrip=False, lstrip=False, single_word=False, normalized=False, special=True),\n",
       "\t256123: AddedToken(\"mos_Latn\", rstrip=False, lstrip=False, single_word=False, normalized=False, special=True),\n",
       "\t256124: AddedToken(\"mri_Latn\", rstrip=False, lstrip=False, single_word=False, normalized=False, special=True),\n",
       "\t256125: AddedToken(\"zsm_Latn\", rstrip=False, lstrip=False, single_word=False, normalized=False, special=True),\n",
       "\t256126: AddedToken(\"mya_Mymr\", rstrip=False, lstrip=False, single_word=False, normalized=False, special=True),\n",
       "\t256127: AddedToken(\"nld_Latn\", rstrip=False, lstrip=False, single_word=False, normalized=False, special=True),\n",
       "\t256128: AddedToken(\"nno_Latn\", rstrip=False, lstrip=False, single_word=False, normalized=False, special=True),\n",
       "\t256129: AddedToken(\"nob_Latn\", rstrip=False, lstrip=False, single_word=False, normalized=False, special=True),\n",
       "\t256130: AddedToken(\"npi_Deva\", rstrip=False, lstrip=False, single_word=False, normalized=False, special=True),\n",
       "\t256131: AddedToken(\"nso_Latn\", rstrip=False, lstrip=False, single_word=False, normalized=False, special=True),\n",
       "\t256132: AddedToken(\"nus_Latn\", rstrip=False, lstrip=False, single_word=False, normalized=False, special=True),\n",
       "\t256133: AddedToken(\"nya_Latn\", rstrip=False, lstrip=False, single_word=False, normalized=False, special=True),\n",
       "\t256134: AddedToken(\"oci_Latn\", rstrip=False, lstrip=False, single_word=False, normalized=False, special=True),\n",
       "\t256135: AddedToken(\"gaz_Latn\", rstrip=False, lstrip=False, single_word=False, normalized=False, special=True),\n",
       "\t256136: AddedToken(\"ory_Orya\", rstrip=False, lstrip=False, single_word=False, normalized=False, special=True),\n",
       "\t256137: AddedToken(\"pag_Latn\", rstrip=False, lstrip=False, single_word=False, normalized=False, special=True),\n",
       "\t256138: AddedToken(\"pan_Guru\", rstrip=False, lstrip=False, single_word=False, normalized=False, special=True),\n",
       "\t256139: AddedToken(\"pap_Latn\", rstrip=False, lstrip=False, single_word=False, normalized=False, special=True),\n",
       "\t256140: AddedToken(\"pol_Latn\", rstrip=False, lstrip=False, single_word=False, normalized=False, special=True),\n",
       "\t256141: AddedToken(\"por_Latn\", rstrip=False, lstrip=False, single_word=False, normalized=False, special=True),\n",
       "\t256142: AddedToken(\"prs_Arab\", rstrip=False, lstrip=False, single_word=False, normalized=False, special=True),\n",
       "\t256143: AddedToken(\"pbt_Arab\", rstrip=False, lstrip=False, single_word=False, normalized=False, special=True),\n",
       "\t256144: AddedToken(\"quy_Latn\", rstrip=False, lstrip=False, single_word=False, normalized=False, special=True),\n",
       "\t256145: AddedToken(\"ron_Latn\", rstrip=False, lstrip=False, single_word=False, normalized=False, special=True),\n",
       "\t256146: AddedToken(\"run_Latn\", rstrip=False, lstrip=False, single_word=False, normalized=False, special=True),\n",
       "\t256147: AddedToken(\"rus_Cyrl\", rstrip=False, lstrip=False, single_word=False, normalized=False, special=True),\n",
       "\t256148: AddedToken(\"sag_Latn\", rstrip=False, lstrip=False, single_word=False, normalized=False, special=True),\n",
       "\t256149: AddedToken(\"san_Deva\", rstrip=False, lstrip=False, single_word=False, normalized=False, special=True),\n",
       "\t256150: AddedToken(\"sat_Beng\", rstrip=False, lstrip=False, single_word=False, normalized=False, special=True),\n",
       "\t256151: AddedToken(\"scn_Latn\", rstrip=False, lstrip=False, single_word=False, normalized=False, special=True),\n",
       "\t256152: AddedToken(\"shn_Mymr\", rstrip=False, lstrip=False, single_word=False, normalized=False, special=True),\n",
       "\t256153: AddedToken(\"sin_Sinh\", rstrip=False, lstrip=False, single_word=False, normalized=False, special=True),\n",
       "\t256154: AddedToken(\"slk_Latn\", rstrip=False, lstrip=False, single_word=False, normalized=False, special=True),\n",
       "\t256155: AddedToken(\"slv_Latn\", rstrip=False, lstrip=False, single_word=False, normalized=False, special=True),\n",
       "\t256156: AddedToken(\"smo_Latn\", rstrip=False, lstrip=False, single_word=False, normalized=False, special=True),\n",
       "\t256157: AddedToken(\"sna_Latn\", rstrip=False, lstrip=False, single_word=False, normalized=False, special=True),\n",
       "\t256158: AddedToken(\"snd_Arab\", rstrip=False, lstrip=False, single_word=False, normalized=False, special=True),\n",
       "\t256159: AddedToken(\"som_Latn\", rstrip=False, lstrip=False, single_word=False, normalized=False, special=True),\n",
       "\t256160: AddedToken(\"sot_Latn\", rstrip=False, lstrip=False, single_word=False, normalized=False, special=True),\n",
       "\t256161: AddedToken(\"spa_Latn\", rstrip=False, lstrip=False, single_word=False, normalized=False, special=True),\n",
       "\t256162: AddedToken(\"als_Latn\", rstrip=False, lstrip=False, single_word=False, normalized=False, special=True),\n",
       "\t256163: AddedToken(\"srd_Latn\", rstrip=False, lstrip=False, single_word=False, normalized=False, special=True),\n",
       "\t256164: AddedToken(\"srp_Cyrl\", rstrip=False, lstrip=False, single_word=False, normalized=False, special=True),\n",
       "\t256165: AddedToken(\"ssw_Latn\", rstrip=False, lstrip=False, single_word=False, normalized=False, special=True),\n",
       "\t256166: AddedToken(\"sun_Latn\", rstrip=False, lstrip=False, single_word=False, normalized=False, special=True),\n",
       "\t256167: AddedToken(\"swe_Latn\", rstrip=False, lstrip=False, single_word=False, normalized=False, special=True),\n",
       "\t256168: AddedToken(\"swh_Latn\", rstrip=False, lstrip=False, single_word=False, normalized=False, special=True),\n",
       "\t256169: AddedToken(\"szl_Latn\", rstrip=False, lstrip=False, single_word=False, normalized=False, special=True),\n",
       "\t256170: AddedToken(\"tam_Taml\", rstrip=False, lstrip=False, single_word=False, normalized=False, special=True),\n",
       "\t256171: AddedToken(\"tat_Cyrl\", rstrip=False, lstrip=False, single_word=False, normalized=False, special=True),\n",
       "\t256172: AddedToken(\"tel_Telu\", rstrip=False, lstrip=False, single_word=False, normalized=False, special=True),\n",
       "\t256173: AddedToken(\"tgk_Cyrl\", rstrip=False, lstrip=False, single_word=False, normalized=False, special=True),\n",
       "\t256174: AddedToken(\"tgl_Latn\", rstrip=False, lstrip=False, single_word=False, normalized=False, special=True),\n",
       "\t256175: AddedToken(\"tha_Thai\", rstrip=False, lstrip=False, single_word=False, normalized=False, special=True),\n",
       "\t256176: AddedToken(\"tir_Ethi\", rstrip=False, lstrip=False, single_word=False, normalized=False, special=True),\n",
       "\t256177: AddedToken(\"taq_Latn\", rstrip=False, lstrip=False, single_word=False, normalized=False, special=True),\n",
       "\t256178: AddedToken(\"taq_Tfng\", rstrip=False, lstrip=False, single_word=False, normalized=False, special=True),\n",
       "\t256179: AddedToken(\"tpi_Latn\", rstrip=False, lstrip=False, single_word=False, normalized=False, special=True),\n",
       "\t256180: AddedToken(\"tsn_Latn\", rstrip=False, lstrip=False, single_word=False, normalized=False, special=True),\n",
       "\t256181: AddedToken(\"tso_Latn\", rstrip=False, lstrip=False, single_word=False, normalized=False, special=True),\n",
       "\t256182: AddedToken(\"tuk_Latn\", rstrip=False, lstrip=False, single_word=False, normalized=False, special=True),\n",
       "\t256183: AddedToken(\"tum_Latn\", rstrip=False, lstrip=False, single_word=False, normalized=False, special=True),\n",
       "\t256184: AddedToken(\"tur_Latn\", rstrip=False, lstrip=False, single_word=False, normalized=False, special=True),\n",
       "\t256185: AddedToken(\"twi_Latn\", rstrip=False, lstrip=False, single_word=False, normalized=False, special=True),\n",
       "\t256186: AddedToken(\"tzm_Tfng\", rstrip=False, lstrip=False, single_word=False, normalized=False, special=True),\n",
       "\t256187: AddedToken(\"uig_Arab\", rstrip=False, lstrip=False, single_word=False, normalized=False, special=True),\n",
       "\t256188: AddedToken(\"ukr_Cyrl\", rstrip=False, lstrip=False, single_word=False, normalized=False, special=True),\n",
       "\t256189: AddedToken(\"umb_Latn\", rstrip=False, lstrip=False, single_word=False, normalized=False, special=True),\n",
       "\t256190: AddedToken(\"urd_Arab\", rstrip=False, lstrip=False, single_word=False, normalized=False, special=True),\n",
       "\t256191: AddedToken(\"uzn_Latn\", rstrip=False, lstrip=False, single_word=False, normalized=False, special=True),\n",
       "\t256192: AddedToken(\"vec_Latn\", rstrip=False, lstrip=False, single_word=False, normalized=False, special=True),\n",
       "\t256193: AddedToken(\"vie_Latn\", rstrip=False, lstrip=False, single_word=False, normalized=False, special=True),\n",
       "\t256194: AddedToken(\"war_Latn\", rstrip=False, lstrip=False, single_word=False, normalized=False, special=True),\n",
       "\t256195: AddedToken(\"wol_Latn\", rstrip=False, lstrip=False, single_word=False, normalized=False, special=True),\n",
       "\t256196: AddedToken(\"xho_Latn\", rstrip=False, lstrip=False, single_word=False, normalized=False, special=True),\n",
       "\t256197: AddedToken(\"ydd_Hebr\", rstrip=False, lstrip=False, single_word=False, normalized=False, special=True),\n",
       "\t256198: AddedToken(\"yor_Latn\", rstrip=False, lstrip=False, single_word=False, normalized=False, special=True),\n",
       "\t256199: AddedToken(\"yue_Hant\", rstrip=False, lstrip=False, single_word=False, normalized=False, special=True),\n",
       "\t256200: AddedToken(\"zho_Hans\", rstrip=False, lstrip=False, single_word=False, normalized=False, special=True),\n",
       "\t256201: AddedToken(\"zho_Hant\", rstrip=False, lstrip=False, single_word=False, normalized=False, special=True),\n",
       "\t256202: AddedToken(\"zul_Latn\", rstrip=False, lstrip=False, single_word=False, normalized=False, special=True),\n",
       "\t256203: AddedToken(\"<mask>\", rstrip=False, lstrip=True, single_word=False, normalized=True, special=True),\n",
       "}"
      ]
     },
     "execution_count": 2,
     "metadata": {},
     "output_type": "execute_result"
    }
   ],
   "source": [
    "tokenizer"
   ]
  },
  {
   "cell_type": "code",
   "execution_count": 3,
   "metadata": {},
   "outputs": [
    {
     "name": "stdout",
     "output_type": "stream",
     "text": [
      "/data/home/eak/learning/zindi_challenge/machine_translation/machine-translation-zindi\n"
     ]
    }
   ],
   "source": [
    "%cd .."
   ]
  },
  {
   "cell_type": "code",
   "execution_count": 4,
   "metadata": {},
   "outputs": [
    {
     "data": {
      "text/plain": [
       "('extra_dataset/configs/model/tokenizer_config.json',\n",
       " 'extra_dataset/configs/model/special_tokens_map.json',\n",
       " 'extra_dataset/configs/model/sentencepiece.bpe.model',\n",
       " 'extra_dataset/configs/model/added_tokens.json',\n",
       " 'extra_dataset/configs/model/tokenizer.json')"
      ]
     },
     "execution_count": 4,
     "metadata": {},
     "output_type": "execute_result"
    }
   ],
   "source": [
    "tokenizer.save_pretrained(\"extra_dataset/configs/model\")"
   ]
  },
  {
   "cell_type": "code",
   "execution_count": 5,
   "metadata": {},
   "outputs": [],
   "source": [
    "import torch\n",
    "from torch import nn\n",
    "from torch.nn import functional as F\n",
    "\n",
    "class MTDyuFr(nn.Module):\n",
    "    def __init__(self, src_len: int, tg_len: int, embedding_dim: int = 128, dropout: float = 0.1, padding_idx=-100):\n",
    "        super(MTDyuFr, self, ).__init__()\n",
    "        self.embedding = nn.Embedding(src_len, embedding_dim, max_norm=True, padding_idx=padding_idx)\n",
    "        # Encoder\n",
    "        self.encoder_gru1 = nn.GRU(embedding_dim, 128, bidirectional=True)\n",
    "        self.encoder_gru2 = nn.GRU(256, 128, bidirectional=True,) # 256 because bidirectional doubles the features\n",
    "        \n",
    "        # Decoder\n",
    "        self.decoder_gru = nn.GRU(256, 128, bidirectional=True,)\n",
    "        \n",
    "        self.fc = nn.Sequential(\n",
    "            nn.Linear(256, 512),\n",
    "            nn.ReLU(),\n",
    "            nn.Dropout(0.5),\n",
    "            nn.Linear(512, tg_len),\n",
    "            nn.Softmax(dim=-1)  # Correct usage of Softmax\n",
    "        )\n",
    "        self.dropout = nn.Dropout(dropout)\n",
    "\n",
    "    def forward(self, x):\n",
    "        # Embedding layer\n",
    "        x = self.embedding(x)\n",
    "        \n",
    "        # Encoder\n",
    "        x, _ = self.encoder_gru1(x)\n",
    "        x, _ = self.encoder_gru2(self.dropout(x))\n",
    "        \n",
    "        # Decoder\n",
    "        x, _ = self.decoder_gru(self.dropout(x))\n",
    "        \n",
    "        # Fully connected layers\n",
    "        x = self.fc(self.dropout(x))\n",
    "        \n",
    "        return x"
   ]
  },
  {
   "cell_type": "code",
   "execution_count": 6,
   "metadata": {},
   "outputs": [],
   "source": [
    "src_lang = 250\n",
    "tgt_lang = 290\n",
    "embedding_dim = 128\n",
    "\n",
    "model = MTDyuFr(\n",
    "    src_lang, tgt_lang, embedding_dim\n",
    ")"
   ]
  },
  {
   "cell_type": "code",
   "execution_count": 7,
   "metadata": {},
   "outputs": [
    {
     "data": {
      "text/plain": [
       "MTDyuFr(\n",
       "  (embedding): Embedding(250, 128, padding_idx=150, max_norm=True)\n",
       "  (encoder_gru1): GRU(128, 128, bidirectional=True)\n",
       "  (encoder_gru2): GRU(256, 128, bidirectional=True)\n",
       "  (decoder_gru): GRU(256, 128, bidirectional=True)\n",
       "  (fc): Sequential(\n",
       "    (0): Linear(in_features=256, out_features=512, bias=True)\n",
       "    (1): ReLU()\n",
       "    (2): Dropout(p=0.5, inplace=False)\n",
       "    (3): Linear(in_features=512, out_features=290, bias=True)\n",
       "    (4): Softmax(dim=-1)\n",
       "  )\n",
       "  (dropout): Dropout(p=0.1, inplace=False)\n",
       ")"
      ]
     },
     "execution_count": 7,
     "metadata": {},
     "output_type": "execute_result"
    }
   ],
   "source": [
    "model"
   ]
  },
  {
   "cell_type": "code",
   "execution_count": 8,
   "metadata": {},
   "outputs": [
    {
     "data": {
      "text/plain": [
       "tensor([[241, 159,  72, 107,  75,  48, 226, 237, 215, 213],\n",
       "        [119, 129, 200, 140, 156,  64, 102, 221, 194, 165],\n",
       "        [ 69, 236,  16, 192, 190,  92,  30, 215,  23, 129],\n",
       "        [166, 226,  95,  84,  85, 204, 202,  50,  87, 109]])"
      ]
     },
     "execution_count": 8,
     "metadata": {},
     "output_type": "execute_result"
    }
   ],
   "source": [
    "X = torch.randint(0, src_lang, size=(4, 10))\n",
    "X"
   ]
  },
  {
   "cell_type": "code",
   "execution_count": 9,
   "metadata": {},
   "outputs": [
    {
     "data": {
      "text/plain": [
       "torch.Size([4, 10, 128])"
      ]
     },
     "execution_count": 9,
     "metadata": {},
     "output_type": "execute_result"
    }
   ],
   "source": [
    "emb = model.embedding(X)\n",
    "\n",
    "emb.shape"
   ]
  },
  {
   "cell_type": "code",
   "execution_count": 10,
   "metadata": {},
   "outputs": [
    {
     "data": {
      "text/plain": [
       "torch.Size([4, 10, 290])"
      ]
     },
     "execution_count": 10,
     "metadata": {},
     "output_type": "execute_result"
    }
   ],
   "source": [
    "y_pred = model(X)\n",
    "y_pred.shape"
   ]
  },
  {
   "cell_type": "code",
   "execution_count": 13,
   "metadata": {},
   "outputs": [
    {
     "data": {
      "text/plain": [
       "tensor(60)"
      ]
     },
     "execution_count": 13,
     "metadata": {},
     "output_type": "execute_result"
    }
   ],
   "source": [
    "y_pred[0, 0].argmax()"
   ]
  },
  {
   "cell_type": "code",
   "execution_count": null,
   "metadata": {},
   "outputs": [],
   "source": []
  }
 ],
 "metadata": {
  "kernelspec": {
   "display_name": ".venv",
   "language": "python",
   "name": "python3"
  },
  "language_info": {
   "codemirror_mode": {
    "name": "ipython",
    "version": 3
   },
   "file_extension": ".py",
   "mimetype": "text/x-python",
   "name": "python",
   "nbconvert_exporter": "python",
   "pygments_lexer": "ipython3",
   "version": "3.9.18"
  }
 },
 "nbformat": 4,
 "nbformat_minor": 2
}
